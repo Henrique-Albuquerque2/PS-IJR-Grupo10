{
 "cells": [
  {
   "cell_type": "markdown",
   "metadata": {},
   "source": [
    "# Foco da Analise, primeiras impressões\n"
   ]
  },
  {
   "cell_type": "markdown",
   "metadata": {},
   "source": [
    "Realizar uma clusterização com as seguintes colunas, para compreender quais são os perfis de carros que mais vendidos por cada perfil de cliente: \n",
    "        'Tipo de Cliente', 'Marca do Carro', 'Ano de Fabricação do Carro', 'Quilometragem do Carro no Momento da Venda', 'Tipo de Combustível','Tipo de Transmissão', 'Preço de Venda (R$)','Histórico de Aluguel (se aplicável)', 'Cancelamento da Venda'\n",
    "\n",
    "Realizar com as seguintes colunas, para conseguir uma métrica de receita:\n",
    "        'Data da Venda','Preço de Venda (R$)','Forma de Pagamento','Status do Pagamento', 'Desconto para Ex-cliente de Aluguel (%)', 'Cancelamento da Venda'\n",
    "\n",
    "Realizar com as seguintes colunas, para conseguiur encontrar o perfil dos clientes mais valiosos:\n",
    "        'Tipo de Cliente', 'Histórico de Aluguel (se aplicável)', 'Cancelamento da Venda', 'Motivo do Cancelamento (se aplicável)'\n",
    "\n",
    "Analise do porque ocorrem cancelamentos das compras:\n",
    "        'Cancelamento da Venda', 'Motivo do Cancelamento (se aplicável)'\n",
    "\n",
    "Apagar coluna coerente, True para todas as linhas"
   ]
  },
  {
   "cell_type": "code",
   "execution_count": 4,
   "metadata": {},
   "outputs": [],
   "source": [
    "# Importação das bibliotecas para analise de dados\n",
    "import pandas as pd\n",
    "import numpy as np\n",
    "import matplotlib.pyplot as plt\n",
    "import re"
   ]
  },
  {
   "cell_type": "code",
   "execution_count": 5,
   "metadata": {},
   "outputs": [],
   "source": [
    "db_vendas = pd.read_csv('historico_vendas.csv')"
   ]
  },
  {
   "cell_type": "code",
   "execution_count": 6,
   "metadata": {},
   "outputs": [
    {
     "data": {
      "text/plain": [
       "Index(['ID do Cliente', 'Tipo de Cliente', 'Data da Venda',\n",
       "       'ID do Carro Vendido', 'Marca do Carro', 'Ano de Fabricação do Carro',\n",
       "       'Quilometragem do Carro no Momento da Venda', 'Tipo de Combustível',\n",
       "       'Tipo de Transmissão', 'Preço de Venda (R$)', 'Forma de Pagamento',\n",
       "       'Status do Pagamento', 'Histórico de Aluguel (se aplicável)',\n",
       "       'ID do Contrato de Aluguel Anterior (se aplicável)',\n",
       "       'Desconto para Ex-cliente de Aluguel (%)', 'Cancelamento da Venda',\n",
       "       'Motivo do Cancelamento (se aplicável)', 'Coerente'],\n",
       "      dtype='object')"
      ]
     },
     "metadata": {},
     "output_type": "display_data"
    },
    {
     "data": {
      "text/html": [
       "<div>\n",
       "<style scoped>\n",
       "    .dataframe tbody tr th:only-of-type {\n",
       "        vertical-align: middle;\n",
       "    }\n",
       "\n",
       "    .dataframe tbody tr th {\n",
       "        vertical-align: top;\n",
       "    }\n",
       "\n",
       "    .dataframe thead th {\n",
       "        text-align: right;\n",
       "    }\n",
       "</style>\n",
       "<table border=\"1\" class=\"dataframe\">\n",
       "  <thead>\n",
       "    <tr style=\"text-align: right;\">\n",
       "      <th></th>\n",
       "      <th>ID do Cliente</th>\n",
       "      <th>Tipo de Cliente</th>\n",
       "      <th>Data da Venda</th>\n",
       "      <th>ID do Carro Vendido</th>\n",
       "      <th>Marca do Carro</th>\n",
       "      <th>Ano de Fabricação do Carro</th>\n",
       "      <th>Quilometragem do Carro no Momento da Venda</th>\n",
       "      <th>Tipo de Combustível</th>\n",
       "      <th>Tipo de Transmissão</th>\n",
       "      <th>Preço de Venda (R$)</th>\n",
       "      <th>Forma de Pagamento</th>\n",
       "      <th>Status do Pagamento</th>\n",
       "      <th>Histórico de Aluguel (se aplicável)</th>\n",
       "      <th>ID do Contrato de Aluguel Anterior (se aplicável)</th>\n",
       "      <th>Desconto para Ex-cliente de Aluguel (%)</th>\n",
       "      <th>Cancelamento da Venda</th>\n",
       "      <th>Motivo do Cancelamento (se aplicável)</th>\n",
       "      <th>Coerente</th>\n",
       "    </tr>\n",
       "  </thead>\n",
       "  <tbody>\n",
       "    <tr>\n",
       "      <th>0</th>\n",
       "      <td>67593.0</td>\n",
       "      <td>b2c</td>\n",
       "      <td>13/05/2023</td>\n",
       "      <td>516713.0</td>\n",
       "      <td>voLKSWAGEn</td>\n",
       "      <td>2022.0</td>\n",
       "      <td>37656.0</td>\n",
       "      <td>HÍbridO</td>\n",
       "      <td>aUTOmÁTIcA</td>\n",
       "      <td>135375.00</td>\n",
       "      <td>TRanSfeRênCIA BanCáRIa</td>\n",
       "      <td>comPLETO</td>\n",
       "      <td>NÃo</td>\n",
       "      <td>NaN</td>\n",
       "      <td>0.0</td>\n",
       "      <td>NÃo</td>\n",
       "      <td>NaN</td>\n",
       "      <td>True</td>\n",
       "    </tr>\n",
       "    <tr>\n",
       "      <th>1</th>\n",
       "      <td>88684.0</td>\n",
       "      <td>B2b</td>\n",
       "      <td>03 de March de 2022</td>\n",
       "      <td>562471.0</td>\n",
       "      <td>cHEvRoLET</td>\n",
       "      <td>2013.0</td>\n",
       "      <td>214637.0</td>\n",
       "      <td>gaSoLIna</td>\n",
       "      <td>AuTomÁtICa</td>\n",
       "      <td>72948.61</td>\n",
       "      <td>FiNaNCIAmeNTo</td>\n",
       "      <td>EM AndamenTo</td>\n",
       "      <td>nãO</td>\n",
       "      <td>NaN</td>\n",
       "      <td>0.0</td>\n",
       "      <td>Não</td>\n",
       "      <td>NaN</td>\n",
       "      <td>True</td>\n",
       "    </tr>\n",
       "    <tr>\n",
       "      <th>2</th>\n",
       "      <td>60203.0</td>\n",
       "      <td>b2c</td>\n",
       "      <td>13/02/2023</td>\n",
       "      <td>367386.0</td>\n",
       "      <td>voLkSWaGEN</td>\n",
       "      <td>2016.0</td>\n",
       "      <td>134394.0</td>\n",
       "      <td>HÍBRiDO</td>\n",
       "      <td>AutoMáTIcA</td>\n",
       "      <td>89561.76</td>\n",
       "      <td>FInAncIAmEnto</td>\n",
       "      <td>em ANdAMEntO</td>\n",
       "      <td>nÃO</td>\n",
       "      <td>NaN</td>\n",
       "      <td>0.0</td>\n",
       "      <td>siM</td>\n",
       "      <td>FiNaNciAMEnTO NEgadO</td>\n",
       "      <td>True</td>\n",
       "    </tr>\n",
       "    <tr>\n",
       "      <th>3</th>\n",
       "      <td>40452.0</td>\n",
       "      <td>B2C</td>\n",
       "      <td>03 de August de 2023</td>\n",
       "      <td>126368.0</td>\n",
       "      <td>chEVrolet</td>\n",
       "      <td>2013.0</td>\n",
       "      <td>194853.0</td>\n",
       "      <td>híBrIDo</td>\n",
       "      <td>aUTOMÁticA</td>\n",
       "      <td>76788.01</td>\n",
       "      <td>TransFErência bANcÁRIa</td>\n",
       "      <td>cOmpLEto</td>\n",
       "      <td>NÃo</td>\n",
       "      <td>NaN</td>\n",
       "      <td>0.0</td>\n",
       "      <td>Não</td>\n",
       "      <td>NaN</td>\n",
       "      <td>True</td>\n",
       "    </tr>\n",
       "    <tr>\n",
       "      <th>4</th>\n",
       "      <td>83528.0</td>\n",
       "      <td>b2c</td>\n",
       "      <td>21/04/2022</td>\n",
       "      <td>988253.0</td>\n",
       "      <td>TOYoTA</td>\n",
       "      <td>2018.0</td>\n",
       "      <td>116024.0</td>\n",
       "      <td>eLÉtRiCo</td>\n",
       "      <td>AUtoMáTica</td>\n",
       "      <td>99237.41</td>\n",
       "      <td>finANcIameNto</td>\n",
       "      <td>Em AndAMeNtO</td>\n",
       "      <td>NÃO</td>\n",
       "      <td>NaN</td>\n",
       "      <td>0.0</td>\n",
       "      <td>NÃO</td>\n",
       "      <td>NaN</td>\n",
       "      <td>True</td>\n",
       "    </tr>\n",
       "  </tbody>\n",
       "</table>\n",
       "</div>"
      ],
      "text/plain": [
       "   ID do Cliente Tipo de Cliente         Data da Venda  ID do Carro Vendido  \\\n",
       "0        67593.0             b2c            13/05/2023             516713.0   \n",
       "1        88684.0             B2b   03 de March de 2022             562471.0   \n",
       "2        60203.0             b2c            13/02/2023             367386.0   \n",
       "3        40452.0             B2C  03 de August de 2023             126368.0   \n",
       "4        83528.0             b2c            21/04/2022             988253.0   \n",
       "\n",
       "  Marca do Carro  Ano de Fabricação do Carro  \\\n",
       "0     voLKSWAGEn                      2022.0   \n",
       "1      cHEvRoLET                      2013.0   \n",
       "2     voLkSWaGEN                      2016.0   \n",
       "3      chEVrolet                      2013.0   \n",
       "4         TOYoTA                      2018.0   \n",
       "\n",
       "   Quilometragem do Carro no Momento da Venda Tipo de Combustível  \\\n",
       "0                                     37656.0             HÍbridO   \n",
       "1                                    214637.0            gaSoLIna   \n",
       "2                                    134394.0             HÍBRiDO   \n",
       "3                                    194853.0             híBrIDo   \n",
       "4                                    116024.0            eLÉtRiCo   \n",
       "\n",
       "  Tipo de Transmissão  Preço de Venda (R$)      Forma de Pagamento  \\\n",
       "0          aUTOmÁTIcA            135375.00  TRanSfeRênCIA BanCáRIa   \n",
       "1          AuTomÁtICa             72948.61           FiNaNCIAmeNTo   \n",
       "2          AutoMáTIcA             89561.76           FInAncIAmEnto   \n",
       "3          aUTOMÁticA             76788.01  TransFErência bANcÁRIa   \n",
       "4          AUtoMáTica             99237.41           finANcIameNto   \n",
       "\n",
       "  Status do Pagamento Histórico de Aluguel (se aplicável)  \\\n",
       "0            comPLETO                                 NÃo   \n",
       "1        EM AndamenTo                                 nãO   \n",
       "2        em ANdAMEntO                                 nÃO   \n",
       "3            cOmpLEto                                 NÃo   \n",
       "4        Em AndAMeNtO                                 NÃO   \n",
       "\n",
       "   ID do Contrato de Aluguel Anterior (se aplicável)  \\\n",
       "0                                                NaN   \n",
       "1                                                NaN   \n",
       "2                                                NaN   \n",
       "3                                                NaN   \n",
       "4                                                NaN   \n",
       "\n",
       "   Desconto para Ex-cliente de Aluguel (%) Cancelamento da Venda  \\\n",
       "0                                      0.0                   NÃo   \n",
       "1                                      0.0                   Não   \n",
       "2                                      0.0                   siM   \n",
       "3                                      0.0                   Não   \n",
       "4                                      0.0                   NÃO   \n",
       "\n",
       "  Motivo do Cancelamento (se aplicável) Coerente  \n",
       "0                                   NaN     True  \n",
       "1                                   NaN     True  \n",
       "2                  FiNaNciAMEnTO NEgadO     True  \n",
       "3                                   NaN     True  \n",
       "4                                   NaN     True  "
      ]
     },
     "metadata": {},
     "output_type": "display_data"
    }
   ],
   "source": [
    "display(db_vendas.columns)\n",
    "display(db_vendas.head())"
   ]
  },
  {
   "cell_type": "code",
   "execution_count": 7,
   "metadata": {},
   "outputs": [
    {
     "data": {
      "text/plain": [
       "Coerente\n",
       "True    23007\n",
       "Name: count, dtype: int64"
      ]
     },
     "execution_count": 7,
     "metadata": {},
     "output_type": "execute_result"
    }
   ],
   "source": [
    "\n",
    "db_vendas['Coerente'].value_counts()"
   ]
  },
  {
   "cell_type": "code",
   "execution_count": 8,
   "metadata": {},
   "outputs": [
    {
     "data": {
      "text/plain": [
       "ID do Contrato de Aluguel Anterior (se aplicável)\n",
       "43670.0    4\n",
       "26307.0    4\n",
       "80981.0    3\n",
       "6999.0     3\n",
       "77770.0    3\n",
       "          ..\n",
       "5121.0     1\n",
       "83307.0    1\n",
       "44870.0    1\n",
       "54599.0    1\n",
       "636.0      1\n",
       "Name: count, Length: 5367, dtype: int64"
      ]
     },
     "execution_count": 8,
     "metadata": {},
     "output_type": "execute_result"
    }
   ],
   "source": [
    "db_vendas['ID do Contrato de Aluguel Anterior (se aplicável)'].value_counts()"
   ]
  },
  {
   "cell_type": "markdown",
   "metadata": {},
   "source": [
    "# Inicio da Limpeza de dados"
   ]
  },
  {
   "cell_type": "code",
   "execution_count": 9,
   "metadata": {},
   "outputs": [
    {
     "data": {
      "text/plain": [
       "(23027, 18)"
      ]
     },
     "execution_count": 9,
     "metadata": {},
     "output_type": "execute_result"
    }
   ],
   "source": [
    "db_alterado = db_vendas\n",
    "db_alterado.shape"
   ]
  },
  {
   "cell_type": "code",
   "execution_count": 10,
   "metadata": {},
   "outputs": [],
   "source": [
    "# apagando a coluna coerente: \n",
    "db_alterado = db_alterado.drop(['ID do Cliente','Coerente','ID do Carro Vendido'], axis=1)"
   ]
  },
  {
   "cell_type": "markdown",
   "metadata": {},
   "source": [
    "### Tirando colunas inteiras de nans"
   ]
  },
  {
   "cell_type": "code",
   "execution_count": 11,
   "metadata": {},
   "outputs": [
    {
     "data": {
      "text/plain": [
       "(23007, 15)"
      ]
     },
     "execution_count": 11,
     "metadata": {},
     "output_type": "execute_result"
    }
   ],
   "source": [
    "db_alterado.dropna(how='all', inplace=True)\n",
    "\n",
    "db_alterado.shape"
   ]
  },
  {
   "cell_type": "code",
   "execution_count": 12,
   "metadata": {},
   "outputs": [
    {
     "name": "stdout",
     "output_type": "stream",
     "text": [
      "True na coluna ID do Contrato de Aluguel Anterior (se aplicável)\n",
      "True na coluna Motivo do Cancelamento (se aplicável)\n",
      "15 2\n"
     ]
    },
    {
     "data": {
      "text/plain": [
       "(23027, 18)"
      ]
     },
     "execution_count": 12,
     "metadata": {},
     "output_type": "execute_result"
    }
   ],
   "source": [
    "# Filter rows with any NaN values\n",
    "colunas = [\n",
    " 'Tipo de Cliente',\n",
    " 'Data da Venda',\n",
    " 'Marca do Carro',\n",
    " 'Ano de Fabricação do Carro',\n",
    " 'Quilometragem do Carro no Momento da Venda',\n",
    " 'Tipo de Combustível',\n",
    " 'Tipo de Transmissão',\n",
    " 'Preço de Venda (R$)',\n",
    " 'Forma de Pagamento',\n",
    " 'Status do Pagamento',\n",
    " 'Histórico de Aluguel (se aplicável)',\n",
    " 'ID do Contrato de Aluguel Anterior (se aplicável)',\n",
    " 'Desconto para Ex-cliente de Aluguel (%)',\n",
    " 'Cancelamento da Venda',\n",
    " 'Motivo do Cancelamento (se aplicável)'\n",
    " ]\n",
    "i = 0\n",
    "for coluna in colunas:\n",
    "    i+=1\n",
    "    if db_alterado[coluna].isna().any() == True:\n",
    "        print(f\"{True}\" + \" \" + \"na coluna\" + \" \" + coluna)\n",
    "    \n",
    "print(i,len(db_alterado.shape))\n",
    "\n",
    "db_vendas.shape"
   ]
  },
  {
   "cell_type": "markdown",
   "metadata": {},
   "source": [
    "### Tirando linhas duplicadas "
   ]
  },
  {
   "cell_type": "code",
   "execution_count": 13,
   "metadata": {},
   "outputs": [
    {
     "data": {
      "text/plain": [
       "(23007, 15)"
      ]
     },
     "execution_count": 13,
     "metadata": {},
     "output_type": "execute_result"
    }
   ],
   "source": [
    "db_alterado = db_alterado.drop_duplicates()\n",
    "\n",
    "db_alterado.shape"
   ]
  },
  {
   "cell_type": "markdown",
   "metadata": {},
   "source": [
    "### Tratando tipo do cliente:"
   ]
  },
  {
   "cell_type": "code",
   "execution_count": 14,
   "metadata": {},
   "outputs": [],
   "source": [
    "db_alterado['Tipo de Cliente'] = db_alterado['Tipo de Cliente'].str.lower().str.strip()"
   ]
  },
  {
   "cell_type": "code",
   "execution_count": 15,
   "metadata": {},
   "outputs": [
    {
     "data": {
      "text/plain": [
       "array(['b2c', 'b2b'], dtype=object)"
      ]
     },
     "execution_count": 15,
     "metadata": {},
     "output_type": "execute_result"
    }
   ],
   "source": [
    "db_alterado['Tipo de Cliente'].unique()"
   ]
  },
  {
   "cell_type": "markdown",
   "metadata": {},
   "source": [
    "### Tratando Data de venda"
   ]
  },
  {
   "cell_type": "code",
   "execution_count": 16,
   "metadata": {},
   "outputs": [
    {
     "data": {
      "text/plain": [
       "'for i in range(0,len(data_venda),15):\\n    display(data_venda[i:i+15])\\n'"
      ]
     },
     "execution_count": 16,
     "metadata": {},
     "output_type": "execute_result"
    }
   ],
   "source": [
    "db_alterado['Data da Venda'].dtype #ou seja eh uma string \n",
    "\n",
    "data_venda = db_alterado['Data da Venda']\n",
    "\n",
    "\n",
    "def convert_to_month_year(date_str):\n",
    "    if isinstance(date_str, str):\n",
    "        # First, check if the date is already in the yyyy-mm-dd format\n",
    "        if re.match(r'\\d{4}-\\d{2}-\\d{2}', date_str):\n",
    "            return pd.to_datetime(date_str).strftime('%Y-%m')  # Convert and format as Year-Month\n",
    "        \n",
    "        # Check for the dd/mm/yyyy format\n",
    "        elif re.match(r'\\d{2}/\\d{2}/\\d{4}', date_str):\n",
    "            return pd.to_datetime(date_str, dayfirst=True).strftime('%Y-%m')  # Convert and format as Year-Month\n",
    "        \n",
    "        # Handle verbose format like '03 de August de 2023'\n",
    "        match = re.match(r'(\\d{1,2}) de (\\w+) de (\\d{4})', date_str)\n",
    "        if match:\n",
    "            day, month, year = match.groups()\n",
    "            # Mapping Portuguese/English month names to their corresponding numbers\n",
    "            months_mapping = {\n",
    "                'january': '01', 'february': '02', 'march': '03', 'april': '04', 'may': '05',\n",
    "                'june': '06', 'july': '07', 'august': '08', 'september': '09', 'october': '10',\n",
    "                'november': '11', 'december': '12',\n",
    "                'janeiro': '01', 'fevereiro': '02', 'março': '03', 'abril': '04', 'maio': '05',\n",
    "                'junho': '06', 'julho': '07', 'agosto': '08', 'setembro': '09', 'outubro': '10',\n",
    "                'novembro': '11', 'dezembro': '12'\n",
    "            }\n",
    "            month_num = months_mapping.get(month.lower(), None)\n",
    "            if month_num:\n",
    "                # Return in Year-Month format\n",
    "                return f'{year}-{month_num}'\n",
    "\n",
    "\n",
    "db_alterado['Data da Venda'] = data_venda.apply(convert_to_month_year)\n",
    "\n",
    "\"\"\"for i in range(0,len(data_venda),15):\n",
    "    display(data_venda[i:i+15])\n",
    "\"\"\"\n"
   ]
  },
  {
   "cell_type": "code",
   "execution_count": 17,
   "metadata": {},
   "outputs": [
    {
     "data": {
      "text/plain": [
       "0                  13/05/2023\n",
       "1         03 de March de 2022\n",
       "2                  13/02/2023\n",
       "3        03 de August de 2023\n",
       "4                  21/04/2022\n",
       "                 ...         \n",
       "23022              13/01/2022\n",
       "23023              05/07/2024\n",
       "23024              17/02/2023\n",
       "23025              01/07/2024\n",
       "23026              2023-04-19\n",
       "Name: Data da Venda, Length: 23007, dtype: object"
      ]
     },
     "metadata": {},
     "output_type": "display_data"
    }
   ],
   "source": [
    "display(data_venda)"
   ]
  },
  {
   "cell_type": "markdown",
   "metadata": {},
   "source": [
    "#### Filtro do ano de Fabricação"
   ]
  },
  {
   "cell_type": "code",
   "execution_count": 18,
   "metadata": {},
   "outputs": [],
   "source": [
    "db_alterado['Ano de Fabricação do Carro'] = db_alterado['Ano de Fabricação do Carro'].astype(int)"
   ]
  },
  {
   "cell_type": "markdown",
   "metadata": {},
   "source": [
    "#### onde possui nan:\n",
    "* True na coluna ID do Contrato de Aluguel Anterior (se aplicável)\n",
    "* True na coluna Motivo do Cancelamento (se aplicável)"
   ]
  },
  {
   "cell_type": "code",
   "execution_count": 19,
   "metadata": {},
   "outputs": [
    {
     "data": {
      "text/html": [
       "<div>\n",
       "<style scoped>\n",
       "    .dataframe tbody tr th:only-of-type {\n",
       "        vertical-align: middle;\n",
       "    }\n",
       "\n",
       "    .dataframe tbody tr th {\n",
       "        vertical-align: top;\n",
       "    }\n",
       "\n",
       "    .dataframe thead th {\n",
       "        text-align: right;\n",
       "    }\n",
       "</style>\n",
       "<table border=\"1\" class=\"dataframe\">\n",
       "  <thead>\n",
       "    <tr style=\"text-align: right;\">\n",
       "      <th></th>\n",
       "      <th>Tipo de Cliente</th>\n",
       "      <th>Data da Venda</th>\n",
       "      <th>Marca do Carro</th>\n",
       "      <th>Ano de Fabricação do Carro</th>\n",
       "      <th>Quilometragem do Carro no Momento da Venda</th>\n",
       "      <th>Tipo de Combustível</th>\n",
       "      <th>Tipo de Transmissão</th>\n",
       "      <th>Preço de Venda (R$)</th>\n",
       "      <th>Forma de Pagamento</th>\n",
       "      <th>Status do Pagamento</th>\n",
       "      <th>Histórico de Aluguel (se aplicável)</th>\n",
       "      <th>ID do Contrato de Aluguel Anterior (se aplicável)</th>\n",
       "      <th>Desconto para Ex-cliente de Aluguel (%)</th>\n",
       "      <th>Cancelamento da Venda</th>\n",
       "      <th>Motivo do Cancelamento (se aplicável)</th>\n",
       "    </tr>\n",
       "  </thead>\n",
       "  <tbody>\n",
       "    <tr>\n",
       "      <th>0</th>\n",
       "      <td>b2c</td>\n",
       "      <td>2023-05</td>\n",
       "      <td>voLKSWAGEn</td>\n",
       "      <td>2022</td>\n",
       "      <td>37656.0</td>\n",
       "      <td>HÍbridO</td>\n",
       "      <td>aUTOmÁTIcA</td>\n",
       "      <td>135375.00</td>\n",
       "      <td>TRanSfeRênCIA BanCáRIa</td>\n",
       "      <td>comPLETO</td>\n",
       "      <td>NÃo</td>\n",
       "      <td>NaN</td>\n",
       "      <td>0.0</td>\n",
       "      <td>NÃo</td>\n",
       "      <td>NaN</td>\n",
       "    </tr>\n",
       "    <tr>\n",
       "      <th>1</th>\n",
       "      <td>b2b</td>\n",
       "      <td>2022-03</td>\n",
       "      <td>cHEvRoLET</td>\n",
       "      <td>2013</td>\n",
       "      <td>214637.0</td>\n",
       "      <td>gaSoLIna</td>\n",
       "      <td>AuTomÁtICa</td>\n",
       "      <td>72948.61</td>\n",
       "      <td>FiNaNCIAmeNTo</td>\n",
       "      <td>EM AndamenTo</td>\n",
       "      <td>nãO</td>\n",
       "      <td>NaN</td>\n",
       "      <td>0.0</td>\n",
       "      <td>Não</td>\n",
       "      <td>NaN</td>\n",
       "    </tr>\n",
       "  </tbody>\n",
       "</table>\n",
       "</div>"
      ],
      "text/plain": [
       "  Tipo de Cliente Data da Venda Marca do Carro  Ano de Fabricação do Carro  \\\n",
       "0             b2c       2023-05     voLKSWAGEn                        2022   \n",
       "1             b2b       2022-03      cHEvRoLET                        2013   \n",
       "\n",
       "   Quilometragem do Carro no Momento da Venda Tipo de Combustível  \\\n",
       "0                                     37656.0             HÍbridO   \n",
       "1                                    214637.0            gaSoLIna   \n",
       "\n",
       "  Tipo de Transmissão  Preço de Venda (R$)      Forma de Pagamento  \\\n",
       "0          aUTOmÁTIcA            135375.00  TRanSfeRênCIA BanCáRIa   \n",
       "1          AuTomÁtICa             72948.61           FiNaNCIAmeNTo   \n",
       "\n",
       "  Status do Pagamento Histórico de Aluguel (se aplicável)  \\\n",
       "0            comPLETO                                 NÃo   \n",
       "1        EM AndamenTo                                 nãO   \n",
       "\n",
       "   ID do Contrato de Aluguel Anterior (se aplicável)  \\\n",
       "0                                                NaN   \n",
       "1                                                NaN   \n",
       "\n",
       "   Desconto para Ex-cliente de Aluguel (%) Cancelamento da Venda  \\\n",
       "0                                      0.0                   NÃo   \n",
       "1                                      0.0                   Não   \n",
       "\n",
       "  Motivo do Cancelamento (se aplicável)  \n",
       "0                                   NaN  \n",
       "1                                   NaN  "
      ]
     },
     "metadata": {},
     "output_type": "display_data"
    }
   ],
   "source": [
    "#display(db_alterado['Ano de Fabricação do Carro'].head(2))\n",
    "\n",
    "display(db_alterado.head(2))"
   ]
  },
  {
   "cell_type": "markdown",
   "metadata": {},
   "source": [
    "#### Filtrando todas as colunas que tem letras maiusculas"
   ]
  },
  {
   "cell_type": "code",
   "execution_count": 20,
   "metadata": {},
   "outputs": [
    {
     "name": "stderr",
     "output_type": "stream",
     "text": [
      "C:\\Users\\Patricia\\AppData\\Local\\Temp\\ipykernel_16140\\655777156.py:1: FutureWarning: DataFrame.applymap has been deprecated. Use DataFrame.map instead.\n",
      "  db_alterado = db_alterado.applymap(lambda x: x.strip().lower() if isinstance(x, str) else x)\n",
      "C:\\Users\\Patricia\\AppData\\Local\\Temp\\ipykernel_16140\\655777156.py:3: FutureWarning: DataFrame.applymap has been deprecated. Use DataFrame.map instead.\n",
      "  db_alterado = db_alterado.applymap(lambda x: x.strip().strip() if isinstance(x, str) else x)\n"
     ]
    }
   ],
   "source": [
    "db_alterado = db_alterado.applymap(lambda x: x.strip().lower() if isinstance(x, str) else x)\n",
    "\n",
    "db_alterado = db_alterado.applymap(lambda x: x.strip().strip() if isinstance(x, str) else x)"
   ]
  },
  {
   "cell_type": "code",
   "execution_count": 21,
   "metadata": {},
   "outputs": [
    {
     "data": {
      "text/html": [
       "<div>\n",
       "<style scoped>\n",
       "    .dataframe tbody tr th:only-of-type {\n",
       "        vertical-align: middle;\n",
       "    }\n",
       "\n",
       "    .dataframe tbody tr th {\n",
       "        vertical-align: top;\n",
       "    }\n",
       "\n",
       "    .dataframe thead th {\n",
       "        text-align: right;\n",
       "    }\n",
       "</style>\n",
       "<table border=\"1\" class=\"dataframe\">\n",
       "  <thead>\n",
       "    <tr style=\"text-align: right;\">\n",
       "      <th></th>\n",
       "      <th>Tipo de Cliente</th>\n",
       "      <th>Data da Venda</th>\n",
       "      <th>Marca do Carro</th>\n",
       "      <th>Ano de Fabricação do Carro</th>\n",
       "      <th>Quilometragem do Carro no Momento da Venda</th>\n",
       "      <th>Tipo de Combustível</th>\n",
       "      <th>Tipo de Transmissão</th>\n",
       "      <th>Preço de Venda (R$)</th>\n",
       "      <th>Forma de Pagamento</th>\n",
       "      <th>Status do Pagamento</th>\n",
       "      <th>Histórico de Aluguel (se aplicável)</th>\n",
       "      <th>ID do Contrato de Aluguel Anterior (se aplicável)</th>\n",
       "      <th>Desconto para Ex-cliente de Aluguel (%)</th>\n",
       "      <th>Cancelamento da Venda</th>\n",
       "      <th>Motivo do Cancelamento (se aplicável)</th>\n",
       "    </tr>\n",
       "  </thead>\n",
       "  <tbody>\n",
       "    <tr>\n",
       "      <th>0</th>\n",
       "      <td>b2c</td>\n",
       "      <td>2023-05</td>\n",
       "      <td>volkswagen</td>\n",
       "      <td>2022</td>\n",
       "      <td>37656.0</td>\n",
       "      <td>híbrido</td>\n",
       "      <td>automática</td>\n",
       "      <td>135375.00</td>\n",
       "      <td>transferência bancária</td>\n",
       "      <td>completo</td>\n",
       "      <td>não</td>\n",
       "      <td>NaN</td>\n",
       "      <td>0.0</td>\n",
       "      <td>não</td>\n",
       "      <td>NaN</td>\n",
       "    </tr>\n",
       "    <tr>\n",
       "      <th>1</th>\n",
       "      <td>b2b</td>\n",
       "      <td>2022-03</td>\n",
       "      <td>chevrolet</td>\n",
       "      <td>2013</td>\n",
       "      <td>214637.0</td>\n",
       "      <td>gasolina</td>\n",
       "      <td>automática</td>\n",
       "      <td>72948.61</td>\n",
       "      <td>financiamento</td>\n",
       "      <td>em andamento</td>\n",
       "      <td>não</td>\n",
       "      <td>NaN</td>\n",
       "      <td>0.0</td>\n",
       "      <td>não</td>\n",
       "      <td>NaN</td>\n",
       "    </tr>\n",
       "    <tr>\n",
       "      <th>2</th>\n",
       "      <td>b2c</td>\n",
       "      <td>2023-02</td>\n",
       "      <td>volkswagen</td>\n",
       "      <td>2016</td>\n",
       "      <td>134394.0</td>\n",
       "      <td>híbrido</td>\n",
       "      <td>automática</td>\n",
       "      <td>89561.76</td>\n",
       "      <td>financiamento</td>\n",
       "      <td>em andamento</td>\n",
       "      <td>não</td>\n",
       "      <td>NaN</td>\n",
       "      <td>0.0</td>\n",
       "      <td>sim</td>\n",
       "      <td>financiamento negado</td>\n",
       "    </tr>\n",
       "    <tr>\n",
       "      <th>3</th>\n",
       "      <td>b2c</td>\n",
       "      <td>2023-08</td>\n",
       "      <td>chevrolet</td>\n",
       "      <td>2013</td>\n",
       "      <td>194853.0</td>\n",
       "      <td>híbrido</td>\n",
       "      <td>automática</td>\n",
       "      <td>76788.01</td>\n",
       "      <td>transferência bancária</td>\n",
       "      <td>completo</td>\n",
       "      <td>não</td>\n",
       "      <td>NaN</td>\n",
       "      <td>0.0</td>\n",
       "      <td>não</td>\n",
       "      <td>NaN</td>\n",
       "    </tr>\n",
       "    <tr>\n",
       "      <th>4</th>\n",
       "      <td>b2c</td>\n",
       "      <td>2022-04</td>\n",
       "      <td>toyota</td>\n",
       "      <td>2018</td>\n",
       "      <td>116024.0</td>\n",
       "      <td>elétrico</td>\n",
       "      <td>automática</td>\n",
       "      <td>99237.41</td>\n",
       "      <td>financiamento</td>\n",
       "      <td>em andamento</td>\n",
       "      <td>não</td>\n",
       "      <td>NaN</td>\n",
       "      <td>0.0</td>\n",
       "      <td>não</td>\n",
       "      <td>NaN</td>\n",
       "    </tr>\n",
       "  </tbody>\n",
       "</table>\n",
       "</div>"
      ],
      "text/plain": [
       "  Tipo de Cliente Data da Venda Marca do Carro  Ano de Fabricação do Carro  \\\n",
       "0             b2c       2023-05     volkswagen                        2022   \n",
       "1             b2b       2022-03      chevrolet                        2013   \n",
       "2             b2c       2023-02     volkswagen                        2016   \n",
       "3             b2c       2023-08      chevrolet                        2013   \n",
       "4             b2c       2022-04         toyota                        2018   \n",
       "\n",
       "   Quilometragem do Carro no Momento da Venda Tipo de Combustível  \\\n",
       "0                                     37656.0             híbrido   \n",
       "1                                    214637.0            gasolina   \n",
       "2                                    134394.0             híbrido   \n",
       "3                                    194853.0             híbrido   \n",
       "4                                    116024.0            elétrico   \n",
       "\n",
       "  Tipo de Transmissão  Preço de Venda (R$)      Forma de Pagamento  \\\n",
       "0          automática            135375.00  transferência bancária   \n",
       "1          automática             72948.61           financiamento   \n",
       "2          automática             89561.76           financiamento   \n",
       "3          automática             76788.01  transferência bancária   \n",
       "4          automática             99237.41           financiamento   \n",
       "\n",
       "  Status do Pagamento Histórico de Aluguel (se aplicável)  \\\n",
       "0            completo                                 não   \n",
       "1        em andamento                                 não   \n",
       "2        em andamento                                 não   \n",
       "3            completo                                 não   \n",
       "4        em andamento                                 não   \n",
       "\n",
       "   ID do Contrato de Aluguel Anterior (se aplicável)  \\\n",
       "0                                                NaN   \n",
       "1                                                NaN   \n",
       "2                                                NaN   \n",
       "3                                                NaN   \n",
       "4                                                NaN   \n",
       "\n",
       "   Desconto para Ex-cliente de Aluguel (%) Cancelamento da Venda  \\\n",
       "0                                      0.0                   não   \n",
       "1                                      0.0                   não   \n",
       "2                                      0.0                   sim   \n",
       "3                                      0.0                   não   \n",
       "4                                      0.0                   não   \n",
       "\n",
       "  Motivo do Cancelamento (se aplicável)  \n",
       "0                                   NaN  \n",
       "1                                   NaN  \n",
       "2                  financiamento negado  \n",
       "3                                   NaN  \n",
       "4                                   NaN  "
      ]
     },
     "metadata": {},
     "output_type": "display_data"
    }
   ],
   "source": [
    "display(db_alterado.head())"
   ]
  },
  {
   "cell_type": "markdown",
   "metadata": {},
   "source": [
    "#### Filtrando o cancelamento da venda "
   ]
  },
  {
   "cell_type": "code",
   "execution_count": 22,
   "metadata": {},
   "outputs": [
    {
     "data": {
      "text/plain": [
       "np.False_"
      ]
     },
     "execution_count": 22,
     "metadata": {},
     "output_type": "execute_result"
    }
   ],
   "source": [
    "db_alterado[\"Cancelamento da Venda\"].isna().any()"
   ]
  },
  {
   "cell_type": "code",
   "execution_count": 23,
   "metadata": {},
   "outputs": [
    {
     "data": {
      "text/plain": [
       "0        não\n",
       "1        não\n",
       "3        não\n",
       "4        não\n",
       "9        não\n",
       "        ... \n",
       "23014    não\n",
       "23017    não\n",
       "23020    não\n",
       "23025    nao\n",
       "23026    não\n",
       "Name: Cancelamento da Venda, Length: 11533, dtype: object"
      ]
     },
     "metadata": {},
     "output_type": "display_data"
    },
    {
     "data": {
      "text/plain": [
       "(11533, 15)"
      ]
     },
     "execution_count": 23,
     "metadata": {},
     "output_type": "execute_result"
    }
   ],
   "source": [
    "# Correctly filter rows where 'Cancelamento da Venda' is 'sim'\n",
    "db_alterado[\"Cancelamento da Venda\"] = db_alterado.loc[db_alterado[\"Cancelamento da Venda\"] != \"sim\", \"Cancelamento da Venda\"]\n",
    "\n",
    "db_alterado.dropna(subset=[\"Cancelamento da Venda\"], inplace=True)\n",
    "\n",
    "\n",
    "display(db_alterado['Cancelamento da Venda'])\n",
    "\n",
    "db_alterado.shape"
   ]
  },
  {
   "cell_type": "markdown",
   "metadata": {},
   "source": [
    "#### Arrumando ortografia das linhas, para contabilização correta:\n",
    "\n",
    "Ex:\n",
    "\n",
    "Histórico de Aluguel (se aplicável)\n",
    "não    0.604179\n",
    "sim    0.245730\n",
    "n      0.079251\n",
    "nao    0.070840"
   ]
  },
  {
   "cell_type": "code",
   "execution_count": 24,
   "metadata": {},
   "outputs": [],
   "source": [
    "\n",
    "db_alterado['Tipo de Combustível'] = db_alterado['Tipo de Combustível'].replace({\n",
    "    'elétrico': 'eletrico',\n",
    "    'híbrido': 'hibrido'\n",
    "})\n",
    "\n",
    "db_alterado['Forma de Pagamento'] = db_alterado['Forma de Pagamento'].replace({\n",
    "    'cartao de crédito': 'cartao de credito',\n",
    "    'cartão de credito': 'cartao de credito',\n",
    "    'cartão de crédito': 'cartao de credito',\n",
    "    'transferência bancária' : 'transferencia bancaria'\n",
    "})\n",
    "\n",
    "db_alterado['Histórico de Aluguel (se aplicável)'] = db_alterado['Histórico de Aluguel (se aplicável)'].replace({\n",
    "    'n': 'nao',\n",
    "    'não': 'nao'\n",
    "})\n",
    "\n",
    "db_alterado['Cancelamento da Venda'] = db_alterado['Cancelamento da Venda'].replace({\n",
    "    'n': 'nao',\n",
    "    'não':'nao'\n",
    "})\n",
    "\n"
   ]
  },
  {
   "cell_type": "markdown",
   "metadata": {},
   "source": [
    "##### Concluindo a limpeza dos dados\n",
    "\n",
    "tudo faz sentido, analisando todas as colunas esta tudo batendo"
   ]
  },
  {
   "cell_type": "code",
   "execution_count": 25,
   "metadata": {},
   "outputs": [
    {
     "name": "stdout",
     "output_type": "stream",
     "text": [
      "<class 'pandas.core.frame.DataFrame'>\n",
      "Index: 11533 entries, 0 to 23026\n",
      "Data columns (total 15 columns):\n",
      " #   Column                                             Non-Null Count  Dtype  \n",
      "---  ------                                             --------------  -----  \n",
      " 0   Tipo de Cliente                                    11533 non-null  object \n",
      " 1   Data da Venda                                      11533 non-null  object \n",
      " 2   Marca do Carro                                     11533 non-null  object \n",
      " 3   Ano de Fabricação do Carro                         11533 non-null  int64  \n",
      " 4   Quilometragem do Carro no Momento da Venda         11533 non-null  float64\n",
      " 5   Tipo de Combustível                                11533 non-null  object \n",
      " 6   Tipo de Transmissão                                11533 non-null  object \n",
      " 7   Preço de Venda (R$)                                11533 non-null  float64\n",
      " 8   Forma de Pagamento                                 11533 non-null  object \n",
      " 9   Status do Pagamento                                11533 non-null  object \n",
      " 10  Histórico de Aluguel (se aplicável)                11533 non-null  object \n",
      " 11  ID do Contrato de Aluguel Anterior (se aplicável)  2834 non-null   float64\n",
      " 12  Desconto para Ex-cliente de Aluguel (%)            11533 non-null  float64\n",
      " 13  Cancelamento da Venda                              11533 non-null  object \n",
      " 14  Motivo do Cancelamento (se aplicável)              0 non-null      object \n",
      "dtypes: float64(4), int64(1), object(10)\n",
      "memory usage: 1.4+ MB\n"
     ]
    },
    {
     "data": {
      "text/plain": [
       "Tipo de Cliente                                          0\n",
       "Data da Venda                                            0\n",
       "Marca do Carro                                           0\n",
       "Ano de Fabricação do Carro                               0\n",
       "Quilometragem do Carro no Momento da Venda               0\n",
       "Tipo de Combustível                                      0\n",
       "Tipo de Transmissão                                      0\n",
       "Preço de Venda (R$)                                      0\n",
       "Forma de Pagamento                                       0\n",
       "Status do Pagamento                                      0\n",
       "Histórico de Aluguel (se aplicável)                      0\n",
       "ID do Contrato de Aluguel Anterior (se aplicável)     8699\n",
       "Desconto para Ex-cliente de Aluguel (%)                  0\n",
       "Cancelamento da Venda                                    0\n",
       "Motivo do Cancelamento (se aplicável)                11533\n",
       "dtype: int64"
      ]
     },
     "execution_count": 25,
     "metadata": {},
     "output_type": "execute_result"
    }
   ],
   "source": [
    "# Check the structure of the dataset\n",
    "db_alterado.info()\n",
    "\n",
    "# Check for missing values\n",
    "db_alterado.isna().sum()\n"
   ]
  },
  {
   "cell_type": "markdown",
   "metadata": {},
   "source": [
    "#### ANÁLISE EXPLORATÓRIA"
   ]
  },
  {
   "cell_type": "markdown",
   "metadata": {},
   "source": [
    "Comecando para descobrir as medias, moda, mediana e quatils. "
   ]
  },
  {
   "cell_type": "code",
   "execution_count": 26,
   "metadata": {},
   "outputs": [
    {
     "data": {
      "text/html": [
       "<div>\n",
       "<style scoped>\n",
       "    .dataframe tbody tr th:only-of-type {\n",
       "        vertical-align: middle;\n",
       "    }\n",
       "\n",
       "    .dataframe tbody tr th {\n",
       "        vertical-align: top;\n",
       "    }\n",
       "\n",
       "    .dataframe thead th {\n",
       "        text-align: right;\n",
       "    }\n",
       "</style>\n",
       "<table border=\"1\" class=\"dataframe\">\n",
       "  <thead>\n",
       "    <tr style=\"text-align: right;\">\n",
       "      <th></th>\n",
       "      <th>count</th>\n",
       "      <th>mean</th>\n",
       "      <th>std</th>\n",
       "      <th>min</th>\n",
       "      <th>25%</th>\n",
       "      <th>50%</th>\n",
       "      <th>75%</th>\n",
       "      <th>max</th>\n",
       "    </tr>\n",
       "  </thead>\n",
       "  <tbody>\n",
       "    <tr>\n",
       "      <th>Ano de Fabricação do Carro</th>\n",
       "      <td>11533.0</td>\n",
       "      <td>2015.932281</td>\n",
       "      <td>3.723841</td>\n",
       "      <td>2010.00</td>\n",
       "      <td>2013.00</td>\n",
       "      <td>2016.00</td>\n",
       "      <td>2019.00</td>\n",
       "      <td>2022.0</td>\n",
       "    </tr>\n",
       "    <tr>\n",
       "      <th>Quilometragem do Carro no Momento da Venda</th>\n",
       "      <td>11533.0</td>\n",
       "      <td>141387.147143</td>\n",
       "      <td>66379.704672</td>\n",
       "      <td>30007.00</td>\n",
       "      <td>84736.00</td>\n",
       "      <td>139608.00</td>\n",
       "      <td>196446.00</td>\n",
       "      <td>279915.0</td>\n",
       "    </tr>\n",
       "    <tr>\n",
       "      <th>Preço de Venda (R$)</th>\n",
       "      <td>11533.0</td>\n",
       "      <td>92485.573950</td>\n",
       "      <td>22058.755114</td>\n",
       "      <td>62544.32</td>\n",
       "      <td>72948.61</td>\n",
       "      <td>85083.67</td>\n",
       "      <td>116067.14</td>\n",
       "      <td>135375.0</td>\n",
       "    </tr>\n",
       "    <tr>\n",
       "      <th>ID do Contrato de Aluguel Anterior (se aplicável)</th>\n",
       "      <td>2834.0</td>\n",
       "      <td>42203.647848</td>\n",
       "      <td>24172.819905</td>\n",
       "      <td>33.00</td>\n",
       "      <td>21365.25</td>\n",
       "      <td>42485.00</td>\n",
       "      <td>63506.50</td>\n",
       "      <td>83620.0</td>\n",
       "    </tr>\n",
       "    <tr>\n",
       "      <th>Desconto para Ex-cliente de Aluguel (%)</th>\n",
       "      <td>11533.0</td>\n",
       "      <td>2.423914</td>\n",
       "      <td>4.693747</td>\n",
       "      <td>0.00</td>\n",
       "      <td>0.00</td>\n",
       "      <td>0.00</td>\n",
       "      <td>0.00</td>\n",
       "      <td>15.0</td>\n",
       "    </tr>\n",
       "  </tbody>\n",
       "</table>\n",
       "</div>"
      ],
      "text/plain": [
       "                                                     count           mean  \\\n",
       "Ano de Fabricação do Carro                         11533.0    2015.932281   \n",
       "Quilometragem do Carro no Momento da Venda         11533.0  141387.147143   \n",
       "Preço de Venda (R$)                                11533.0   92485.573950   \n",
       "ID do Contrato de Aluguel Anterior (se aplicável)   2834.0   42203.647848   \n",
       "Desconto para Ex-cliente de Aluguel (%)            11533.0       2.423914   \n",
       "\n",
       "                                                            std       min  \\\n",
       "Ano de Fabricação do Carro                             3.723841   2010.00   \n",
       "Quilometragem do Carro no Momento da Venda         66379.704672  30007.00   \n",
       "Preço de Venda (R$)                                22058.755114  62544.32   \n",
       "ID do Contrato de Aluguel Anterior (se aplicável)  24172.819905     33.00   \n",
       "Desconto para Ex-cliente de Aluguel (%)                4.693747      0.00   \n",
       "\n",
       "                                                        25%        50%  \\\n",
       "Ano de Fabricação do Carro                          2013.00    2016.00   \n",
       "Quilometragem do Carro no Momento da Venda         84736.00  139608.00   \n",
       "Preço de Venda (R$)                                72948.61   85083.67   \n",
       "ID do Contrato de Aluguel Anterior (se aplicável)  21365.25   42485.00   \n",
       "Desconto para Ex-cliente de Aluguel (%)                0.00       0.00   \n",
       "\n",
       "                                                         75%       max  \n",
       "Ano de Fabricação do Carro                           2019.00    2022.0  \n",
       "Quilometragem do Carro no Momento da Venda         196446.00  279915.0  \n",
       "Preço de Venda (R$)                                116067.14  135375.0  \n",
       "ID do Contrato de Aluguel Anterior (se aplicável)   63506.50   83620.0  \n",
       "Desconto para Ex-cliente de Aluguel (%)                 0.00      15.0  "
      ]
     },
     "execution_count": 26,
     "metadata": {},
     "output_type": "execute_result"
    }
   ],
   "source": [
    "db_alterado.describe().transpose()"
   ]
  },
  {
   "cell_type": "code",
   "execution_count": 27,
   "metadata": {},
   "outputs": [
    {
     "name": "stdout",
     "output_type": "stream",
     "text": [
      "<class 'pandas.core.frame.DataFrame'>\n",
      "Index: 11533 entries, 0 to 23026\n",
      "Data columns (total 15 columns):\n",
      " #   Column                                             Non-Null Count  Dtype  \n",
      "---  ------                                             --------------  -----  \n",
      " 0   Tipo de Cliente                                    11533 non-null  object \n",
      " 1   Data da Venda                                      11533 non-null  object \n",
      " 2   Marca do Carro                                     11533 non-null  object \n",
      " 3   Ano de Fabricação do Carro                         11533 non-null  int64  \n",
      " 4   Quilometragem do Carro no Momento da Venda         11533 non-null  float64\n",
      " 5   Tipo de Combustível                                11533 non-null  object \n",
      " 6   Tipo de Transmissão                                11533 non-null  object \n",
      " 7   Preço de Venda (R$)                                11533 non-null  float64\n",
      " 8   Forma de Pagamento                                 11533 non-null  object \n",
      " 9   Status do Pagamento                                11533 non-null  object \n",
      " 10  Histórico de Aluguel (se aplicável)                11533 non-null  object \n",
      " 11  ID do Contrato de Aluguel Anterior (se aplicável)  2834 non-null   float64\n",
      " 12  Desconto para Ex-cliente de Aluguel (%)            11533 non-null  float64\n",
      " 13  Cancelamento da Venda                              11533 non-null  object \n",
      " 14  Motivo do Cancelamento (se aplicável)              0 non-null      object \n",
      "dtypes: float64(4), int64(1), object(10)\n",
      "memory usage: 1.4+ MB\n"
     ]
    }
   ],
   "source": [
    "db_alterado.info()"
   ]
  },
  {
   "cell_type": "markdown",
   "metadata": {},
   "source": [
    "#### Fazendo uma abordagem nas variáveis qualitativas, para entender melhor o comportamento delas, temos:"
   ]
  },
  {
   "cell_type": "code",
   "execution_count": 28,
   "metadata": {},
   "outputs": [],
   "source": [
    "colunas = [\n",
    " 'Tipo de Cliente',\n",
    " #'Data da Venda',\n",
    " 'Marca do Carro',\n",
    " 'Tipo de Combustível',\n",
    " 'Tipo de Transmissão',\n",
    " 'Forma de Pagamento',\n",
    " 'Status do Pagamento',\n",
    " 'Histórico de Aluguel (se aplicável)',\n",
    " 'Cancelamento da Venda',\n",
    " 'Motivo do Cancelamento (se aplicável)'\n",
    " ]"
   ]
  },
  {
   "cell_type": "code",
   "execution_count": 29,
   "metadata": {},
   "outputs": [
    {
     "data": {
      "text/plain": [
       "Tipo de Cliente\n",
       "b2b    0.504292\n",
       "b2c    0.495708\n",
       "Name: proportion, dtype: float64"
      ]
     },
     "metadata": {},
     "output_type": "display_data"
    },
    {
     "data": {
      "text/plain": [
       "Marca do Carro\n",
       "hyundai       0.150004\n",
       "honda         0.146709\n",
       "ford          0.143848\n",
       "chevrolet     0.143154\n",
       "nissan        0.142114\n",
       "volkswagen    0.140293\n",
       "toyota        0.133877\n",
       "Name: proportion, dtype: float64"
      ]
     },
     "metadata": {},
     "output_type": "display_data"
    },
    {
     "data": {
      "text/plain": [
       "Tipo de Combustível\n",
       "diesel      0.254574\n",
       "gasolina    0.252406\n",
       "hibrido     0.249805\n",
       "eletrico    0.243215\n",
       "Name: proportion, dtype: float64"
      ]
     },
     "metadata": {},
     "output_type": "display_data"
    },
    {
     "data": {
      "text/plain": [
       "Tipo de Transmissão\n",
       "manual        0.502038\n",
       "automática    0.497962\n",
       "Name: proportion, dtype: float64"
      ]
     },
     "metadata": {},
     "output_type": "display_data"
    },
    {
     "data": {
      "text/plain": [
       "Forma de Pagamento\n",
       "financiamento             0.337033\n",
       "cartao de credito         0.336079\n",
       "transferencia bancaria    0.326888\n",
       "Name: proportion, dtype: float64"
      ]
     },
     "metadata": {},
     "output_type": "display_data"
    },
    {
     "data": {
      "text/plain": [
       "Status do Pagamento\n",
       "completo        0.662967\n",
       "em andamento    0.337033\n",
       "Name: proportion, dtype: float64"
      ]
     },
     "metadata": {},
     "output_type": "display_data"
    },
    {
     "data": {
      "text/plain": [
       "Histórico de Aluguel (se aplicável)\n",
       "nao    0.75427\n",
       "sim    0.24573\n",
       "Name: proportion, dtype: float64"
      ]
     },
     "metadata": {},
     "output_type": "display_data"
    },
    {
     "data": {
      "text/plain": [
       "Cancelamento da Venda\n",
       "nao    1.0\n",
       "Name: proportion, dtype: float64"
      ]
     },
     "metadata": {},
     "output_type": "display_data"
    },
    {
     "data": {
      "text/plain": [
       "Series([], Name: proportion, dtype: float64)"
      ]
     },
     "metadata": {},
     "output_type": "display_data"
    },
    {
     "ename": "IndexError",
     "evalue": "index 0 is out of bounds for axis 0 with size 0",
     "output_type": "error",
     "traceback": [
      "\u001b[1;31m---------------------------------------------------------------------------\u001b[0m",
      "\u001b[1;31mIndexError\u001b[0m                                Traceback (most recent call last)",
      "Cell \u001b[1;32mIn[29], line 27\u001b[0m\n\u001b[0;32m     25\u001b[0m \u001b[38;5;28;01mfor\u001b[39;00m col, ax \u001b[38;5;129;01min\u001b[39;00m \u001b[38;5;28mzip\u001b[39m(colunas_qualitativas, axs\u001b[38;5;241m.\u001b[39mravel()):\n\u001b[0;32m     26\u001b[0m     \u001b[38;5;28;01mif\u001b[39;00m col \u001b[38;5;129;01min\u001b[39;00m db_alterado\u001b[38;5;241m.\u001b[39mcolumns:\n\u001b[1;32m---> 27\u001b[0m         \u001b[43mdb_alterado\u001b[49m\u001b[43m[\u001b[49m\u001b[43mcol\u001b[49m\u001b[43m]\u001b[49m\u001b[38;5;241;43m.\u001b[39;49m\u001b[43mvalue_counts\u001b[49m\u001b[43m(\u001b[49m\u001b[38;5;28;43;01mTrue\u001b[39;49;00m\u001b[43m)\u001b[49m\u001b[38;5;241;43m.\u001b[39;49m\u001b[43mplot\u001b[49m\u001b[43m(\u001b[49m\u001b[43mkind\u001b[49m\u001b[38;5;241;43m=\u001b[39;49m\u001b[38;5;124;43m'\u001b[39;49m\u001b[38;5;124;43mbar\u001b[39;49m\u001b[38;5;124;43m'\u001b[39;49m\u001b[43m,\u001b[49m\u001b[43m \u001b[49m\u001b[43max\u001b[49m\u001b[38;5;241;43m=\u001b[39;49m\u001b[43max\u001b[49m\u001b[43m,\u001b[49m\u001b[43m \u001b[49m\u001b[43mtitle\u001b[49m\u001b[38;5;241;43m=\u001b[39;49m\u001b[43mcol\u001b[49m\u001b[43m)\u001b[49m\n\u001b[0;32m     28\u001b[0m         ax\u001b[38;5;241m.\u001b[39mset_xlabel(\u001b[38;5;124m'\u001b[39m\u001b[38;5;124m'\u001b[39m)  \u001b[38;5;66;03m# Remove x-axis label to avoid clutter\u001b[39;00m\n\u001b[0;32m     29\u001b[0m         ax\u001b[38;5;241m.\u001b[39mset_ylabel(\u001b[38;5;124m'\u001b[39m\u001b[38;5;124mFrequência\u001b[39m\u001b[38;5;124m'\u001b[39m)  \u001b[38;5;66;03m# Set y-axis label to 'Frequência'\u001b[39;00m\n",
      "File \u001b[1;32m~\\AppData\\Local\\Packages\\PythonSoftwareFoundation.Python.3.11_qbz5n2kfra8p0\\LocalCache\\local-packages\\Python311\\site-packages\\pandas\\plotting\\_core.py:1030\u001b[0m, in \u001b[0;36mPlotAccessor.__call__\u001b[1;34m(self, *args, **kwargs)\u001b[0m\n\u001b[0;32m   1027\u001b[0m             label_name \u001b[38;5;241m=\u001b[39m label_kw \u001b[38;5;129;01mor\u001b[39;00m data\u001b[38;5;241m.\u001b[39mcolumns\n\u001b[0;32m   1028\u001b[0m             data\u001b[38;5;241m.\u001b[39mcolumns \u001b[38;5;241m=\u001b[39m label_name\n\u001b[1;32m-> 1030\u001b[0m \u001b[38;5;28;01mreturn\u001b[39;00m \u001b[43mplot_backend\u001b[49m\u001b[38;5;241;43m.\u001b[39;49m\u001b[43mplot\u001b[49m\u001b[43m(\u001b[49m\u001b[43mdata\u001b[49m\u001b[43m,\u001b[49m\u001b[43m \u001b[49m\u001b[43mkind\u001b[49m\u001b[38;5;241;43m=\u001b[39;49m\u001b[43mkind\u001b[49m\u001b[43m,\u001b[49m\u001b[43m \u001b[49m\u001b[38;5;241;43m*\u001b[39;49m\u001b[38;5;241;43m*\u001b[39;49m\u001b[43mkwargs\u001b[49m\u001b[43m)\u001b[49m\n",
      "File \u001b[1;32m~\\AppData\\Local\\Packages\\PythonSoftwareFoundation.Python.3.11_qbz5n2kfra8p0\\LocalCache\\local-packages\\Python311\\site-packages\\pandas\\plotting\\_matplotlib\\__init__.py:71\u001b[0m, in \u001b[0;36mplot\u001b[1;34m(data, kind, **kwargs)\u001b[0m\n\u001b[0;32m     69\u001b[0m         kwargs[\u001b[38;5;124m\"\u001b[39m\u001b[38;5;124max\u001b[39m\u001b[38;5;124m\"\u001b[39m] \u001b[38;5;241m=\u001b[39m \u001b[38;5;28mgetattr\u001b[39m(ax, \u001b[38;5;124m\"\u001b[39m\u001b[38;5;124mleft_ax\u001b[39m\u001b[38;5;124m\"\u001b[39m, ax)\n\u001b[0;32m     70\u001b[0m plot_obj \u001b[38;5;241m=\u001b[39m PLOT_CLASSES[kind](data, \u001b[38;5;241m*\u001b[39m\u001b[38;5;241m*\u001b[39mkwargs)\n\u001b[1;32m---> 71\u001b[0m \u001b[43mplot_obj\u001b[49m\u001b[38;5;241;43m.\u001b[39;49m\u001b[43mgenerate\u001b[49m\u001b[43m(\u001b[49m\u001b[43m)\u001b[49m\n\u001b[0;32m     72\u001b[0m plot_obj\u001b[38;5;241m.\u001b[39mdraw()\n\u001b[0;32m     73\u001b[0m \u001b[38;5;28;01mreturn\u001b[39;00m plot_obj\u001b[38;5;241m.\u001b[39mresult\n",
      "File \u001b[1;32m~\\AppData\\Local\\Packages\\PythonSoftwareFoundation.Python.3.11_qbz5n2kfra8p0\\LocalCache\\local-packages\\Python311\\site-packages\\pandas\\plotting\\_matplotlib\\core.py:508\u001b[0m, in \u001b[0;36mMPLPlot.generate\u001b[1;34m(self)\u001b[0m\n\u001b[0;32m    506\u001b[0m \u001b[38;5;28;01mfor\u001b[39;00m ax \u001b[38;5;129;01min\u001b[39;00m \u001b[38;5;28mself\u001b[39m\u001b[38;5;241m.\u001b[39maxes:\n\u001b[0;32m    507\u001b[0m     \u001b[38;5;28mself\u001b[39m\u001b[38;5;241m.\u001b[39m_post_plot_logic_common(ax)\n\u001b[1;32m--> 508\u001b[0m     \u001b[38;5;28;43mself\u001b[39;49m\u001b[38;5;241;43m.\u001b[39;49m\u001b[43m_post_plot_logic\u001b[49m\u001b[43m(\u001b[49m\u001b[43max\u001b[49m\u001b[43m,\u001b[49m\u001b[43m \u001b[49m\u001b[38;5;28;43mself\u001b[39;49m\u001b[38;5;241;43m.\u001b[39;49m\u001b[43mdata\u001b[49m\u001b[43m)\u001b[49m\n",
      "File \u001b[1;32m~\\AppData\\Local\\Packages\\PythonSoftwareFoundation.Python.3.11_qbz5n2kfra8p0\\LocalCache\\local-packages\\Python311\\site-packages\\pandas\\plotting\\_matplotlib\\core.py:1972\u001b[0m, in \u001b[0;36mBarPlot._post_plot_logic\u001b[1;34m(self, ax, data)\u001b[0m\n\u001b[0;32m   1969\u001b[0m \u001b[38;5;28;01melse\u001b[39;00m:\n\u001b[0;32m   1970\u001b[0m     str_index \u001b[38;5;241m=\u001b[39m [pprint_thing(key) \u001b[38;5;28;01mfor\u001b[39;00m key \u001b[38;5;129;01min\u001b[39;00m \u001b[38;5;28mrange\u001b[39m(data\u001b[38;5;241m.\u001b[39mshape[\u001b[38;5;241m0\u001b[39m])]\n\u001b[1;32m-> 1972\u001b[0m s_edge \u001b[38;5;241m=\u001b[39m \u001b[38;5;28;43mself\u001b[39;49m\u001b[38;5;241;43m.\u001b[39;49m\u001b[43max_pos\u001b[49m\u001b[43m[\u001b[49m\u001b[38;5;241;43m0\u001b[39;49m\u001b[43m]\u001b[49m \u001b[38;5;241m-\u001b[39m \u001b[38;5;241m0.25\u001b[39m \u001b[38;5;241m+\u001b[39m \u001b[38;5;28mself\u001b[39m\u001b[38;5;241m.\u001b[39mlim_offset\n\u001b[0;32m   1973\u001b[0m e_edge \u001b[38;5;241m=\u001b[39m \u001b[38;5;28mself\u001b[39m\u001b[38;5;241m.\u001b[39max_pos[\u001b[38;5;241m-\u001b[39m\u001b[38;5;241m1\u001b[39m] \u001b[38;5;241m+\u001b[39m \u001b[38;5;241m0.25\u001b[39m \u001b[38;5;241m+\u001b[39m \u001b[38;5;28mself\u001b[39m\u001b[38;5;241m.\u001b[39mbar_width \u001b[38;5;241m+\u001b[39m \u001b[38;5;28mself\u001b[39m\u001b[38;5;241m.\u001b[39mlim_offset\n\u001b[0;32m   1975\u001b[0m \u001b[38;5;28mself\u001b[39m\u001b[38;5;241m.\u001b[39m_decorate_ticks(ax, \u001b[38;5;28mself\u001b[39m\u001b[38;5;241m.\u001b[39m_get_index_name(), str_index, s_edge, e_edge)\n",
      "\u001b[1;31mIndexError\u001b[0m: index 0 is out of bounds for axis 0 with size 0"
     ]
    },
    {
     "data": {
      "image/png": "[encoded data removed]",
      "text/plain": [
       "<Figure size 2000x2000 with 9 Axes>"
      ]
     },
     "metadata": {},
     "output_type": "display_data"
    }
   ],
   "source": [
    "for coluna in colunas:\n",
    "    display(db_alterado[coluna].value_counts(normalize = True))\n",
    "\n",
    "import matplotlib.pyplot as plt\n",
    "\n",
    "# List of qualitative columns from your 'db_alterado' dataset that can be used for future analyses\n",
    "colunas_qualitativas = [\n",
    "    'Tipo de Cliente', \n",
    "    'Marca do Carro', \n",
    "    'Tipo de Combustível', \n",
    "    'Tipo de Transmissão', \n",
    "    'Forma de Pagamento', \n",
    "    'Status do Pagamento', \n",
    "    'Histórico de Aluguel (se aplicável)', \n",
    "    'Cancelamento da Venda', \n",
    "    'Motivo do Cancelamento (se aplicável)'\n",
    "]\n",
    "\n",
    "# Create subplots with enough space for all qualitative columns\n",
    "fig, axs = plt.subplots(3, 3, figsize=(20, 20))  # Adjust grid size based on the number of columns\n",
    "fig.subplots_adjust(hspace=0.5, wspace=0.5)  # Adjust space between subplots\n",
    "fig.suptitle('Distribuição de dados qualitativos', fontsize=20)\n",
    "\n",
    "# Iterate over each qualitative column and plot a bar chart\n",
    "for col, ax in zip(colunas_qualitativas, axs.ravel()):\n",
    "    if col in db_alterado.columns:\n",
    "        db_alterado[col].value_counts(True).plot(kind='bar', ax=ax, title=col)\n",
    "        ax.set_xlabel('')  # Remove x-axis label to avoid clutter\n",
    "        ax.set_ylabel('Frequência')  # Set y-axis label to 'Frequência'\n",
    "\n",
    "# Show the plot\n",
    "plt.show()\n"
   ]
  },
  {
   "cell_type": "markdown",
   "metadata": {},
   "source": [
    "##### Visualizando isso de maneira gráfica, temos: "
   ]
  },
  {
   "cell_type": "code",
   "execution_count": null,
   "metadata": {},
   "outputs": [],
   "source": [
    "db_alterado.head()"
   ]
  },
  {
   "cell_type": "markdown",
   "metadata": {},
   "source": [
    "#### Agora podemos começar a analise para checar se tem alguma correlação entre elas:"
   ]
  },
  {
   "cell_type": "code",
   "execution_count": null,
   "metadata": {},
   "outputs": [],
   "source": [
    "# Group by 'Marca do Carro' and sum the 'Preço de Venda (R$)' to get the total revenue per brand\n",
    "revenue_by_brand = db_alterado.groupby('Marca do Carro')['Preço de Venda (R$)'].sum()\n",
    "\n",
    "# Display the table of revenue by car brand\n",
    "display(revenue_by_brand)\n",
    "\n"
   ]
  },
  {
   "cell_type": "code",
   "execution_count": null,
   "metadata": {},
   "outputs": [],
   "source": [
    "#Vamos buscar entender qual carro marca de carro agrega mais na receita da nossa empresa\n",
    "\n",
    "\n",
    "\n",
    "# Plot total revenue by car brand\n",
    "revenue_by_brand.plot(kind='bar', figsize=(10, 6), title='Total Revenue by Car Brand')\n",
    "plt.ylabel('Total Revenue (R$)')\n",
    "plt.show()\n"
   ]
  },
  {
   "cell_type": "markdown",
   "metadata": {},
   "source": [
    "O que podemos concluir é que _não importa_ de maneira significativa a marca do carro, ou seja, a receita das vendas não dependem da marca."
   ]
  },
  {
   "cell_type": "markdown",
   "metadata": {},
   "source": [
    "analisar mes a mes, talvez seja uma boa."
   ]
  },
  {
   "cell_type": "code",
   "execution_count": null,
   "metadata": {},
   "outputs": [],
   "source": [
    "# Calculate total revenue by customer type\n",
    "revenue_by_customer_type = db_alterado.groupby('Tipo de Cliente')['Preço de Venda (R$)'].sum()\n",
    "\n",
    "# Plot total revenue by customer type\n",
    "revenue_by_customer_type.plot(kind='bar', figsize=(8, 5), title='Total Revenue by Customer Type') \n",
    "plt.ylabel('Total Revenue (R$)')\n",
    "plt.show()\n"
   ]
  },
  {
   "cell_type": "markdown",
   "metadata": {},
   "source": [
    "Pode-se concluir que b2c agrega mais receita, no entanto, não altera de maneira signficativa também, talvez seja interessante buscar outro fator que seja mais preponderante."
   ]
  },
  {
   "cell_type": "markdown",
   "metadata": {},
   "source": [
    "#### Vamos analisar se ha alguma relação com o ano do carro, ou seja, se o carro é mais novo se a receita é maior."
   ]
  },
  {
   "cell_type": "code",
   "execution_count": null,
   "metadata": {},
   "outputs": [],
   "source": [
    "db_alterado['Ano de Fabricação do Carro'].value_counts()\n"
   ]
  },
  {
   "cell_type": "code",
   "execution_count": null,
   "metadata": {},
   "outputs": [],
   "source": [
    "import pandas as pd\n",
    "import matplotlib.pyplot as plt\n",
    "\n",
    "# Group by 'Ano de Fabricação do Carro' and calculate total revenue by year\n",
    "revenue_by_year = db_alterado.groupby('Ano de Fabricação do Carro')['Preço de Venda (R$)'].sum()\n",
    "\n",
    "# Reset the index so that 'Ano de Fabricação do Carro' becomes a column\n",
    "revenue_by_year = revenue_by_year.reset_index()\n",
    "\n",
    "# Calculate the correlation between 'Ano de Fabricação do Carro' and 'Preço de Venda (R$)'\n",
    "correlation = revenue_by_year['Ano de Fabricação do Carro'].corr(revenue_by_year['Preço de Venda (R$)'])\n",
    "\n",
    "# Print the correlation result\n",
    "print(f\"Correlation between 'Ano de Fabricação do Carro' and total revenue: {correlation}\")\n",
    "\n",
    "# Plot the relationship between 'Ano de Fabricação do Carro' and total revenue\n",
    "plt.figure(figsize=(10, 6))\n",
    "plt.scatter(revenue_by_year['Ano de Fabricação do Carro'], revenue_by_year['Preço de Venda (R$)'], color='blue')\n",
    "plt.plot(revenue_by_year['Ano de Fabricação do Carro'], revenue_by_year['Preço de Venda (R$)'], color='green', linestyle='--')\n",
    "plt.title('Revenue by Car Year')\n",
    "plt.xlabel('Ano de Fabricação do Carro')\n",
    "plt.ylabel('Total Revenue (R$)')\n",
    "plt.grid(True)\n",
    "plt.show()\n"
   ]
  },
  {
   "cell_type": "markdown",
   "metadata": {},
   "source": [
    "Pelo grafico, pode se concluir que quanto maior o ano, mais receita ela gera, o que é intuitivo. No entanto, vamos entender na proporção se isso tambem é verdade."
   ]
  },
  {
   "cell_type": "code",
   "execution_count": null,
   "metadata": {},
   "outputs": [],
   "source": [
    "# Step 1: Group by 'Ano de Fabricação do Carro' and calculate total revenue by year\n",
    "revenue_by_year = db_alterado.groupby('Ano de Fabricação do Carro')['Preço de Venda (R$)'].sum()\n",
    "\n",
    "# Step 2: Calculate the overall total revenue\n",
    "total_revenue = revenue_by_year.sum()\n",
    "\n",
    "# Step 3: Calculate the proportion of revenue by year\n",
    "proportion_by_year = (revenue_by_year / total_revenue)* 100 #%\n",
    "\n",
    "\n",
    "# Display the proportion\n",
    "print(proportion_by_year)\n"
   ]
  },
  {
   "cell_type": "markdown",
   "metadata": {},
   "source": [
    "#### Analisando quais marcas de carro possuem mais valor agregado"
   ]
  },
  {
   "cell_type": "code",
   "execution_count": null,
   "metadata": {},
   "outputs": [],
   "source": [
    "import pandas as pd\n",
    "import matplotlib.pyplot as plt\n",
    "\n",
    "# Group by 'Marca do Carro' and calculate total revenue by car brand\n",
    "revenue_by_brand = db_alterado.groupby('Marca do Carro')['Preço de Venda (R$)'].sum().sort_values(ascending=False)\n",
    "\n",
    "# Display the revenue by car brand as a table\n",
    "print(revenue_by_brand)\n",
    "\n",
    "# Plot the revenue by car brand\n",
    "plt.figure(figsize=(10, 6))\n",
    "revenue_by_brand.plot(kind='bar', color='blue')\n",
    "plt.title('Total Revenue by Car Brand')\n",
    "plt.xlabel('Car Brand')\n",
    "plt.ylabel('Total Revenue (R$)')\n",
    "plt.xticks(rotation=45)  # Rotate x-axis labels for readability\n",
    "plt.tight_layout()  # Adjust layout to ensure labels fit\n",
    "plt.show()\n"
   ]
  },
  {
   "cell_type": "markdown",
   "metadata": {},
   "source": [
    "#### Analisando a proporção por ano de cada marca, temos:"
   ]
  },
  {
   "cell_type": "code",
   "execution_count": null,
   "metadata": {},
   "outputs": [],
   "source": [
    "# Group by 'Marca do Carro' and 'Ano de Fabricação do Carro', then sum the revenue\n",
    "revenue_by_brand_and_year = db_alterado.groupby(['Marca do Carro', 'Ano de Fabricação do Carro'])['Preço de Venda (R$)'].sum()\n",
    "\n",
    "# Group by 'Marca do Carro' only to get total revenue by brand\n",
    "total_revenue_by_brand = db_alterado.groupby('Marca do Carro')['Preço de Venda (R$)'].sum()\n",
    "\n",
    "# Calculate the proportion of revenue by year within each brand\n",
    "proportion_by_brand_and_year = revenue_by_brand_and_year / total_revenue_by_brand\n",
    "\n",
    "# Display the proportion by brand and year\n",
    "display(proportion_by_brand_and_year['volkswagen'])\n",
    "\n",
    "display(proportion_by_brand_and_year['chevrolet'])\n"
   ]
  },
  {
   "cell_type": "markdown",
   "metadata": {},
   "source": [
    "##### Ainda não chegamos em nenhuma conclusão signficativa, então vou buscar analisar se há alguma ligação entre carros manuais e receita."
   ]
  },
  {
   "cell_type": "code",
   "execution_count": null,
   "metadata": {},
   "outputs": [],
   "source": [
    "import matplotlib.pyplot as plt\n",
    "\n",
    "# Group by 'Tipo de Transmissão' (câmbio) and calculate total revenue ('Preço de Venda (R$)')\n",
    "revenue_by_cambio = db_alterado.groupby('Tipo de Transmissão')['Preço de Venda (R$)'].sum()\n",
    "\n",
    "# Display the grouped revenue by transmission type\n",
    "print(revenue_by_cambio)\n",
    "\n",
    "# Plot the revenue by transmission type\n",
    "plt.figure(figsize=(8, 6))\n",
    "revenue_by_cambio.plot(kind='bar', color='skyblue')\n",
    "plt.title('Total Revenue by Transmission Type')\n",
    "plt.xlabel('Tipo de Transmissão (Câmbio)')\n",
    "plt.ylabel('Total Revenue (R$)')\n",
    "plt.xticks(rotation=0)\n",
    "plt.tight_layout()\n",
    "plt.show()\n"
   ]
  },
  {
   "cell_type": "markdown",
   "metadata": {},
   "source": [
    "Não se pode concluir nada com esses gráficos, pois os valores são todos muito proximos, fazendo essa analise de cambio por preço, portanto, não é uma boa abordagem."
   ]
  },
  {
   "cell_type": "markdown",
   "metadata": {},
   "source": [
    "##### Como ambos os clientes juntos não nos resultam em nada muito significativo, vamos separar o db, para analisar de maneira mais setorizada, talvez isso nos ajude a concluir coisas. Assim: "
   ]
  },
  {
   "cell_type": "markdown",
   "metadata": {},
   "source": [
    "Analise inicial com clientes B2B"
   ]
  },
  {
   "cell_type": "code",
   "execution_count": null,
   "metadata": {},
   "outputs": [],
   "source": [
    "db_b2b = db_alterado.loc[db_alterado['Tipo de Cliente']=='b2b',:]\n",
    "\n",
    "db_b2b.head()"
   ]
  },
  {
   "cell_type": "markdown",
   "metadata": {},
   "source": [
    "Analisando as mesmas coisas mas para esses clientes em especifico:"
   ]
  },
  {
   "cell_type": "code",
   "execution_count": null,
   "metadata": {},
   "outputs": [],
   "source": [
    "qtd_marca = db_b2b['Marca do Carro'].value_counts()\n",
    "\n",
    "qtd_marca"
   ]
  },
  {
   "cell_type": "code",
   "execution_count": null,
   "metadata": {},
   "outputs": [],
   "source": [
    "marca_preco = db_b2b.groupby(['Marca do Carro','Ano de Fabricação do Carro'])['Preço de Venda (R$)']\n",
    "\n",
    "display(marca_preco)"
   ]
  },
  {
   "cell_type": "markdown",
   "metadata": {},
   "source": [
    "Calculando a receita gerada pela operação B2B: "
   ]
  },
  {
   "cell_type": "code",
   "execution_count": null,
   "metadata": {},
   "outputs": [],
   "source": [
    "import pandas as pd\n",
    "import matplotlib.pyplot as plt\n",
    "\n",
    "# Filter the dataset to include only 'b2b' clients\n",
    "db_b2b = db_alterado.loc[db_alterado['Tipo de Cliente'] == 'b2b', :]\n",
    "\n",
    "# Convert 'Data da Venda' to datetime if it's not already\n",
    "db_b2b['Data da Venda'] = pd.to_datetime(db_b2b['Data da Venda'], format='%Y-%m')\n",
    "\n",
    "# Extract year and month for the 'b2b' dataset\n",
    "db_b2b['Year'] = db_b2b['Data da Venda'].dt.year\n",
    "db_b2b['Month'] = db_b2b['Data da Venda'].dt.month\n",
    "\n",
    "# Group by Year and Month and calculate total revenue for each month for 'b2b' clients\n",
    "revenue_by_month_b2b = db_b2b.groupby(['Year', 'Month'])['Preço de Venda (R$)'].sum()\n",
    "\n",
    "# Reset the index to flatten the grouped data for easier plotting\n",
    "revenue_by_month_b2b = revenue_by_month_b2b.reset_index()\n",
    "\n",
    "# Plot the revenue by month for 'b2b' clients\n",
    "plt.figure(figsize=(10, 6))\n",
    "plt.plot(revenue_by_month_b2b['Year'].astype(str) + '-' + revenue_by_month_b2b['Month'].astype(str), \n",
    "         revenue_by_month_b2b['Preço de Venda (R$)'], marker='o', color='green')\n",
    "plt.title('Monthly Revenue Over the Years (B2B Clients)')\n",
    "plt.xlabel('Year-Month')\n",
    "plt.ylabel('Total Revenue (R$)')\n",
    "plt.xticks(rotation=45)\n",
    "plt.grid(True)\n",
    "plt.tight_layout()\n",
    "plt.show()\n"
   ]
  },
  {
   "cell_type": "code",
   "execution_count": null,
   "metadata": {},
   "outputs": [],
   "source": [
    "import pandas as pd\n",
    "import matplotlib.pyplot as plt\n",
    "\n",
    "# Filter the dataset to include only 'b2c' clients\n",
    "db_b2c = db_alterado.loc[db_alterado['Tipo de Cliente'] == 'b2c', :]\n",
    "\n",
    "# Convert 'Data da Venda' to datetime if it's not already\n",
    "db_b2c['Data da Venda'] = pd.to_datetime(db_b2c['Data da Venda'], format='%Y-%m')\n",
    "\n",
    "# Extract year and month for the 'b2c' dataset\n",
    "db_b2c['Year'] = db_b2c['Data da Venda'].dt.year\n",
    "db_b2c['Month'] = db_b2c['Data da Venda'].dt.month\n",
    "\n",
    "# Group by Year and Month and calculate total revenue for each month for 'b2c' clients\n",
    "revenue_by_month_b2c = db_b2c.groupby(['Year', 'Month'])['Preço de Venda (R$)'].sum()\n",
    "\n",
    "# Reset the index to flatten the grouped data for easier plotting\n",
    "revenue_by_month_b2c = revenue_by_month_b2c.reset_index()\n",
    "\n",
    "# Plot the revenue by month for 'b2c' clients\n",
    "plt.figure(figsize=(10, 6))\n",
    "plt.plot(revenue_by_month_b2c['Year'].astype(str) + '-' + revenue_by_month_b2c['Month'].astype(str), \n",
    "         revenue_by_month_b2c['Preço de Venda (R$)'], marker='o', color='blue')\n",
    "plt.title('Monthly Revenue Over the Years (B2C Clients)')\n",
    "plt.xlabel('Year-Month')\n",
    "plt.ylabel('Total Revenue (R$)')\n",
    "plt.xticks(rotation=45)\n",
    "plt.grid(True)\n",
    "plt.tight_layout()\n",
    "plt.show()\n"
   ]
  },
  {
   "cell_type": "code",
   "execution_count": null,
   "metadata": {},
   "outputs": [],
   "source": [
    "import pandas as pd\n",
    "import matplotlib.pyplot as plt\n",
    "\n",
    "# Filter the dataset to include only 'b2b' and 'b2c' clients\n",
    "db_b2b = db_alterado.loc[db_alterado['Tipo de Cliente'] == 'b2b', :]\n",
    "db_b2c = db_alterado.loc[db_alterado['Tipo de Cliente'] == 'b2c', :]\n",
    "\n",
    "# Convert 'Data da Venda' to datetime\n",
    "db_b2b['Data da Venda'] = pd.to_datetime(db_b2b['Data da Venda'], format='%Y-%m')\n",
    "db_b2c['Data da Venda'] = pd.to_datetime(db_b2c['Data da Venda'], format='%Y-%m')\n",
    "\n",
    "# Extract year and month\n",
    "db_b2b['Year'] = db_b2b['Data da Venda'].dt.year\n",
    "db_b2b['Month'] = db_b2b['Data da Venda'].dt.month\n",
    "db_b2c['Year'] = db_b2c['Data da Venda'].dt.year\n",
    "db_b2c['Month'] = db_b2c['Data da Venda'].dt.month\n",
    "\n",
    "# Group by Year and Month for both B2B and B2C\n",
    "revenue_by_month_b2b = db_b2b.groupby(['Year', 'Month'])['Preço de Venda (R$)'].sum().reset_index()\n",
    "revenue_by_month_b2c = db_b2c.groupby(['Year', 'Month'])['Preço de Venda (R$)'].sum().reset_index()\n",
    "\n",
    "# Merge B2B and B2C revenue data\n",
    "revenue_b2b_b2c = pd.merge(revenue_by_month_b2b, revenue_by_month_b2c, on=['Year', 'Month'], how='outer', suffixes=('_B2B', '_B2C'))\n",
    "\n",
    "# Plot comparison between B2B and B2C revenue\n",
    "plt.figure(figsize=(10, 6))\n",
    "\n",
    "# Bar chart for B2B revenue\n",
    "plt.bar(revenue_b2b_b2c['Year'].astype(str) + '-' + revenue_b2b_b2c['Month'].astype(str), \n",
    "        revenue_b2b_b2c['Preço de Venda (R$)_B2B'], label='B2B', alpha=0.7, color='blue')\n",
    "\n",
    "# Bar chart for B2C revenue (stacked on top of B2B)\n",
    "plt.bar(revenue_b2b_b2c['Year'].astype(str) + '-' + revenue_b2b_b2c['Month'].astype(str), \n",
    "        revenue_b2b_b2c['Preço de Venda (R$)_B2C'], label='B2C', alpha=0.7, color='green', \n",
    "        bottom=revenue_b2b_b2c['Preço de Venda (R$)_B2B'])\n",
    "\n",
    "# Add labels and title\n",
    "plt.title('Comparison of Monthly Revenue: B2B vs B2C')\n",
    "plt.xlabel('Year-Month')\n",
    "plt.ylabel('Total Revenue (R$)')\n",
    "plt.xticks(rotation=45)\n",
    "plt.legend(title='Customer Type')\n",
    "plt.grid(True)\n",
    "plt.tight_layout()\n",
    "plt.show()\n"
   ]
  },
  {
   "cell_type": "markdown",
   "metadata": {},
   "source": [
    "A receita é muito dividida, então não podemos concluir muitos aspectos sobre nossos clientes. Porém vamos insistir um pouco mais para analisar o que cada cliente mais compra, para analisarmos se há algum possível insight com a receita gerada."
   ]
  },
  {
   "cell_type": "code",
   "execution_count": null,
   "metadata": {},
   "outputs": [],
   "source": [
    "# Filter the dataset for B2B clients\n",
    "db_b2b = db_alterado.loc[db_alterado['Tipo de Cliente'] == 'b2b', :]\n",
    "\n",
    "# Group by 'Marca do Carro' and count how many times each car brand is bought\n",
    "most_bought_brand_b2b = db_b2b['Marca do Carro'].value_counts()\n",
    "\n",
    "# Display the result for B2B\n",
    "print(\"Most purchased car brands by B2B clients:\")\n",
    "print(most_bought_brand_b2b)\n"
   ]
  },
  {
   "cell_type": "code",
   "execution_count": null,
   "metadata": {},
   "outputs": [],
   "source": [
    "# Group by 'Marca do Carro' and sum the 'Preço de Venda (R$)' for B2B clients\n",
    "revenue_by_brand_b2b = db_b2b.groupby('Marca do Carro')['Preço de Venda (R$)'].sum().sort_values(ascending=False)\n",
    "\n",
    "# Display the result for B2B\n",
    "print(\"Car brands that aggregate the most revenue for B2B clients:\")\n",
    "print(revenue_by_brand_b2b)\n",
    "\n"
   ]
  },
  {
   "cell_type": "code",
   "execution_count": null,
   "metadata": {},
   "outputs": [],
   "source": [
    "# Filter the dataset for B2B clients\n",
    "db_b2b = db_alterado.loc[db_alterado['Tipo de Cliente'] == 'b2b', :]\n",
    "\n",
    "# Group by 'Marca do Carro' and sum the 'Preço de Venda (R$)' for each brand\n",
    "revenue_by_brand_b2b = db_b2b.groupby('Marca do Carro')['Preço de Venda (R$)'].sum()\n",
    "\n",
    "# Calculate the total revenue for all brands (B2B clients)\n",
    "total_revenue_b2b = revenue_by_brand_b2b.sum()\n",
    "\n",
    "# Calculate the proportion of revenue for each brand\n",
    "b2b_brand_revenue_proportion = revenue_by_brand_b2b / total_revenue_b2b\n",
    "\n",
    "# Display the proportion of revenue by car brand for B2B clients\n",
    "print(\"Proportion of total revenue by car brand for B2B clients:\")\n",
    "print(b2b_brand_revenue_proportion)\n"
   ]
  },
  {
   "cell_type": "code",
   "execution_count": null,
   "metadata": {},
   "outputs": [],
   "source": [
    "# Filter the dataset for B2B clients\n",
    "db_b2b = db_alterado.loc[db_alterado['Tipo de Cliente'] == 'b2b', :]\n",
    "\n",
    "# Group by 'Marca do Carro' and sum the 'Preço de Venda (R$)' for each brand\n",
    "revenue_by_brand_b2b = db_b2b.groupby('Marca do Carro')['Preço de Venda (R$)'].sum()\n",
    "\n",
    "# Calculate the total revenue for all brands (B2B clients)\n",
    "total_revenue_b2b = revenue_by_brand_b2b.sum()\n",
    "\n",
    "# Calculate the proportion of revenue for each brand\n",
    "b2b_brand_revenue_proportion = revenue_by_brand_b2b / total_revenue_b2b\n",
    "\n",
    "# Display the proportion of revenue by car brand for B2B clients\n",
    "print(\"Proportion of total revenue by car brand for B2B clients:\")\n",
    "print(b2b_brand_revenue_proportion)\n"
   ]
  },
  {
   "cell_type": "code",
   "execution_count": null,
   "metadata": {},
   "outputs": [],
   "source": [
    "import pandas as pd\n",
    "import matplotlib.pyplot as plt\n",
    "\n",
    "# Step 1: Extract month and year from 'Data de Venda'\n",
    "db_vendas['Mes'] = db_vendas['Data de Venda'].dt.month\n",
    "db_vendas['Ano'] = db_vendas['Data de Venda'].dt.year\n",
    "\n",
    "# Step 2: Filter out sales that were cancelled or payments are pending (if applicable)\n",
    "db_vendas_filtered = db_vendas[(db_vendas['Cancelamento da Venda'] != 'sim') & (db_vendas['Status do Pagamento'] != 'pendente')]\n",
    "\n",
    "# Step 3: Group by year, month, and customer type, then calculate total revenue for each group\n",
    "monthly_revenue = db_vendas_filtered.groupby(['Mes', 'Ano', 'Tipo de Cliente'])['Preço de Venda (R$)'].sum().reset_index()\n",
    "\n",
    "# Step 4: Create two separate DataFrames for B2B and B2C\n",
    "monthly_revenue_b2b = monthly_revenue[monthly_revenue['Tipo de Cliente'] == 'b2b'].copy()\n",
    "monthly_revenue_b2c = monthly_revenue[monthly_revenue['Tipo de Cliente'] == 'b2c'].copy()\n",
    "\n",
    "# Step 5: Calculate cumulative revenue for B2B and B2C clients\n",
    "monthly_revenue_b2b['Cumulative_B2B'] = monthly_revenue_b2b['Preço de Venda (R$)'].cumsum()\n",
    "monthly_revenue_b2c['Cumulative_B2C'] = monthly_revenue_b2c['Preço de Venda (R$)'].cumsum()\n",
    "\n",
    "# Step 6: Merge the two DataFrames (B2B and B2C) on Year and Month, fill missing values with 0\n",
    "merged_revenue = pd.merge(monthly_revenue_b2b[['Ano', 'Mes', 'Cumulative_B2B']],\n",
    "                          monthly_revenue_b2c[['Ano', 'Mes', 'Cumulative_B2C']],\n",
    "                          on=['Ano', 'Mes'], how='outer').fillna(0)\n",
    "\n",
    "# Step 7: Calculate the total cumulative revenue and percentage contributions for each type\n",
    "merged_revenue['Total_Cumulative'] = merged_revenue['Cumulative_B2B'] + merged_revenue['Cumulative_B2C']\n",
    "merged_revenue['Percentage_B2B'] = (merged_revenue['Cumulative_B2B'] / merged_revenue['Total_Cumulative']) * 100\n",
    "merged_revenue['Percentage_B2C'] = (merged_revenue['Cumulative_B2C'] / merged_revenue['Total_Cumulative']) * 100\n",
    "\n",
    "# Plot total cumulative revenue\n",
    "plt.plot(merged_revenue['Total_Cumulative'], label='Total Cumulative Revenue', color='black')\n",
    "\n",
    "# Shade the area for B2B and B2C percentages\n",
    "plt.fill_between(range(len(merged_revenue)), 0, merged_revenue['Total_Cumulative'] * (merged_revenue['Percentage_B2B'] / 100), \n",
    "                 color='red', alpha=0.3, label='B2B Revenue Percentage')\n",
    "plt.fill_between(range(len(merged_revenue)), \n",
    "                 merged_revenue['Total_Cumulative'] * (merged_revenue['Percentage_B2B'] / 100), \n",
    "                 merged_revenue['Total_Cumulative'], color='blue', alpha=0.3, label='B2C Revenue Percentage')\n",
    "\n",
    "plt.title('Total Cumulative Revenue with B2B and B2C Contribution')\n",
    "plt.xlabel('Time (Index)')\n",
    "plt.ylabel('Cumulative Revenue (R$)')\n",
    "plt.legend()\n",
    "plt.show()\n"
   ]
  },
  {
   "cell_type": "markdown",
   "metadata": {},
   "source": [
    "Pivotando a estratégia, já que as conclusões são poucas. Agora hei de analisar a receita mensal em cada ano para ver se é possível concluir algo a partir disso."
   ]
  },
  {
   "cell_type": "code",
   "execution_count": null,
   "metadata": {},
   "outputs": [],
   "source": [
    "import pandas as pd\n",
    "import matplotlib.pyplot as plt\n",
    "\n",
    "# Assuming 'Data da Venda' is in the format Year-Month (e.g., '2023-08')\n",
    "# Convert 'Data da Venda' to datetime if it's not already\n",
    "db_alterado['Data da Venda'] = pd.to_datetime(db_alterado['Data da Venda'], format='%Y-%m')\n",
    "\n",
    "# Extract year and month\n",
    "db_alterado['Year'] = db_alterado['Data da Venda'].dt.year\n",
    "db_alterado['Month'] = db_alterado['Data da Venda'].dt.month\n",
    "\n",
    "# Group by Year and Month and calculate total revenue for each month\n",
    "revenue_by_month = db_alterado.groupby(['Year', 'Month'])['Preço de Venda (R$)'].sum()\n",
    "\n",
    "# Reset the index to flatten the grouped data for easier plotting\n",
    "revenue_by_month = revenue_by_month.reset_index()\n",
    "\n",
    "# Plot the revenue by month\n",
    "plt.figure(figsize=(10, 6))\n",
    "plt.plot(revenue_by_month['Year'].astype(str) + '-' + revenue_by_month['Month'].astype(str), revenue_by_month['Preço de Venda (R$)'], marker='o')\n",
    "plt.title('Monthly Revenue Over the Years')\n",
    "plt.xlabel('Year-Month')\n",
    "plt.ylabel('Total Revenue (R$)')\n",
    "plt.xticks(rotation=45)\n",
    "plt.grid(True)\n",
    "plt.tight_layout()\n",
    "plt.show()\n"
   ]
  },
  {
   "cell_type": "markdown",
   "metadata": {},
   "source": [
    "Pode ser observado uma grande oscilação em relação aos meses, ou seja, as vendas são bastante instáveis, possuindo uma descontinuidade bastante grande. Devemos entender o motivo disso, se isso é algo causado por uma falta de clientes, individamento, ou sobra de carros.\n",
    "\n",
    "O gráfico nos indica que o menor número de vendas global é em fevereiro. Devemos entender o motivo dessa queda em todos os anos, e por que a cada ano após ela, a queda foi amenizando."
   ]
  },
  {
   "cell_type": "code",
   "execution_count": null,
   "metadata": {},
   "outputs": [],
   "source": [
    "from prophet import Prophet\n"
   ]
  },
  {
   "cell_type": "code",
   "execution_count": 191,
   "metadata": {},
   "outputs": [],
   "source": [
    "# Importação das bibliotecas para analise de dados\n",
    "import pandas as pd\n",
    "import numpy as np\n",
    "import matplotlib.pyplot as plt\n",
    "from prophet import Prophet\n",
    "import ipywidgets as widgets\n",
    "from ipywidgets import interact, VBox, HBox\n",
    "from IPython.display import clear_output\n",
    "from sklearn.metrics import mean_absolute_error, mean_squared_error"
   ]
  },
  {
   "cell_type": "code",
   "execution_count": 192,
   "metadata": {},
   "outputs": [
    {
     "data": {
      "application/vnd.jupyter.widget-view+json": {
       "model_id": "6c95a54e9fdc43f19ba455306d268433",
       "version_major": 2,
       "version_minor": 0
      },
      "text/plain": [
       "Button(description='Click Me', style=ButtonStyle())"
      ]
     },
     "metadata": {},
     "output_type": "display_data"
    }
   ],
   "source": [
    "import ipywidgets as widgets\n",
    "from IPython.display import display\n",
    "\n",
    "button = widgets.Button(description=\"Click Me\")\n",
    "display(button)\n"
   ]
  },
  {
   "cell_type": "code",
   "execution_count": 188,
   "metadata": {
    "scrolled": true
   },
   "outputs": [
    {
     "data": {
      "application/vnd.jupyter.widget-view+json": {
       "model_id": "3645214bdf5643ce8f56b78749d45cdf",
       "version_major": 2,
       "version_minor": 0
      },
      "text/plain": [
       "Button(description='Generate Revenue Forecast', style=ButtonStyle())"
      ]
     },
     "metadata": {},
     "output_type": "display_data"
    }
   ],
   "source": [
    "\n",
    "# Step 1: Ensure 'Data da Venda' is in datetime format\n",
    "db_forecast = db_alterado.copy()  # Use your already filtered db_alterado for vendas\n",
    "db_forecast['Data da Venda'] = pd.to_datetime(db_forecast['Data da Venda'], errors='coerce')  # Convert to datetime\n",
    "\n",
    "# Check if there are any rows where the conversion failed (invalid dates)\n",
    "invalid_dates = db_forecast['Data da Venda'].isna().sum()\n",
    "if invalid_dates > 0:\n",
    "    print(f\"Warning: {invalid_dates} rows have invalid dates and were set to NaT.\")\n",
    "\n",
    "# Step 2: Extract month and year from 'Data da Venda'\n",
    "db_forecast['Mes'] = db_forecast['Data da Venda'].dt.month\n",
    "db_forecast['Ano'] = db_forecast['Data da Venda'].dt.year\n",
    "\n",
    "# Step 3: Filter out sales with pending payments\n",
    "db_forecast_filtered = db_forecast[db_forecast['Status do Pagamento'] != 'pendente']\n",
    "\n",
    "# Step 4: Define the function that will make predictions\n",
    "def forecast_revenue():\n",
    "    # Clear the previous output (to update the same plot instead of creating new ones)\n",
    "    clear_output(wait=True)\n",
    "\n",
    "    # Step 4.1: Aggregate revenue by month (sum the 'Preço de Venda (R$)')\n",
    "    monthly_revenue_forecast = db_forecast_filtered.groupby(['Ano', 'Mes'])['Preço de Venda (R$)'].sum().reset_index(name='Revenue')\n",
    "\n",
    "    # Ensure there's enough data for forecasting\n",
    "    if len(monthly_revenue_forecast) < 5:\n",
    "        print(\"Not enough data for forecasting.\")\n",
    "        return\n",
    "\n",
    "    # Step 4.2: Prepare the data for Prophet\n",
    "    monthly_revenue_forecast['ds'] = pd.to_datetime(monthly_revenue_forecast['Ano'].astype(str) + '-' + monthly_revenue_forecast['Mes'].astype(str) + '-01')\n",
    "    monthly_revenue_forecast['y'] = monthly_revenue_forecast['Revenue']\n",
    "\n",
    "    # Step 4.3: Train Prophet model on filtered data\n",
    "    model = Prophet()\n",
    "    model.fit(monthly_revenue_forecast[['ds', 'y']])\n",
    "\n",
    "    # Step 4.4: Forecast the next 12 months\n",
    "    future = model.make_future_dataframe(periods=12, freq='M')\n",
    "    forecast = model.predict(future)\n",
    "\n",
    "    # Step 4.5: Plot the forecast\n",
    "    fig, ax = plt.subplots(figsize=(10, 6))\n",
    "    model.plot(forecast, ax=ax)\n",
    "    plt.title(f'Revenue Forecast for the Next 12 Months')\n",
    "    plt.xlabel('Date')\n",
    "    plt.ylabel('Revenue (R$)')\n",
    "    plt.show()\n",
    "\n",
    "# Step 5: Create a button to trigger the forecast and display the interface\n",
    "forecast_button = widgets.Button(description=\"Generate Revenue Forecast\")\n",
    "forecast_button.on_click(lambda x: forecast_revenue())\n",
    "\n",
    "# Step 6: Display the button to trigger the forecast\n",
    "display(forecast_button)\n"
   ]
  },
  {
   "cell_type": "code",
   "execution_count": 189,
   "metadata": {},
   "outputs": [
    {
     "name": "stdout",
     "output_type": "stream",
     "text": [
      "Forecast button should appear below\n"
     ]
    },
    {
     "data": {
      "application/vnd.jupyter.widget-view+json": {
       "model_id": "7e617ec56c4f417abbff99f096cc2c29",
       "version_major": 2,
       "version_minor": 0
      },
      "text/plain": [
       "Button(description='Generate Revenue Forecast', style=ButtonStyle())"
      ]
     },
     "metadata": {},
     "output_type": "display_data"
    }
   ],
   "source": [
    "import ipywidgets as widgets\n",
    "from IPython.display import display, clear_output\n",
    "import pandas as pd\n",
    "import matplotlib.pyplot as plt\n",
    "from prophet import Prophet\n",
    "\n",
    "# Step 1: Convert 'Data da Venda' to datetime\n",
    "db_forecast = db_alterado.copy()\n",
    "db_forecast['Data da Venda'] = pd.to_datetime(db_forecast['Data da Venda'], errors='coerce')\n",
    "\n",
    "# Extract month and year\n",
    "db_forecast['Mes'] = db_forecast['Data da Venda'].dt.month\n",
    "db_forecast['Ano'] = db_forecast['Data da Venda'].dt.year\n",
    "\n",
    "# Filter out sales with pending payments\n",
    "db_forecast_filtered = db_forecast[db_forecast['Status do Pagamento'] != 'pendente']\n",
    "\n",
    "# Define the function that will make predictions\n",
    "def forecast_revenue():\n",
    "    clear_output(wait=True)\n",
    "    \n",
    "    monthly_revenue_forecast = db_forecast_filtered.groupby(['Ano', 'Mes'])['Preço de Venda (R$)'].sum().reset_index(name='Revenue')\n",
    "    \n",
    "    if len(monthly_revenue_forecast) < 5:\n",
    "        print(\"Not enough data for forecasting.\")\n",
    "        return\n",
    "    \n",
    "    monthly_revenue_forecast['ds'] = pd.to_datetime(monthly_revenue_forecast['Ano'].astype(str) + '-' + monthly_revenue_forecast['Mes'].astype(str) + '-01')\n",
    "    monthly_revenue_forecast['y'] = monthly_revenue_forecast['Revenue']\n",
    "    \n",
    "    model = Prophet()\n",
    "    model.fit(monthly_revenue_forecast[['ds', 'y']])\n",
    "    \n",
    "    future = model.make_future_dataframe(periods=12, freq='M')\n",
    "    forecast = model.predict(future)\n",
    "    \n",
    "    fig, ax = plt.subplots(figsize=(10, 6))\n",
    "    model.plot(forecast, ax=ax)\n",
    "    plt.title(f\"Revenue Forecast for the Next 12 Months\")\n",
    "    plt.show()\n",
    "\n",
    "# Create a button to trigger the forecast\n",
    "forecast_button = widgets.Button(description=\"Generate Revenue Forecast\")\n",
    "forecast_button.on_click(lambda x: forecast_revenue())\n",
    "\n",
    "# Try printing if widgets don't work\n",
    "print(\"Forecast button should appear below\")\n",
    "\n",
    "# Display the button to trigger the forecast\n",
    "display(forecast_button)\n"
   ]
  },
  {
   "cell_type": "code",
   "execution_count": 190,
   "metadata": {},
   "outputs": [
    {
     "data": {
      "application/vnd.jupyter.widget-view+json": {
       "model_id": "fad3898e1a224177bf68491af08e0e47",
       "version_major": 2,
       "version_minor": 0
      },
      "text/plain": [
       "Button(description='Test Button', style=ButtonStyle())"
      ]
     },
     "metadata": {},
     "output_type": "display_data"
    }
   ],
   "source": [
    "import ipywidgets as widgets\n",
    "from IPython.display import display\n",
    "\n",
    "button = widgets.Button(description=\"Test Button\")\n",
    "display(button)\n"
   ]
  },
  {
   "cell_type": "code",
   "execution_count": null,
   "metadata": {},
   "outputs": [],
   "source": []
  }
 ],
 "metadata": {
  "kernelspec": {
   "display_name": "Python 3",
   "language": "python",
   "name": "python3"
  },
  "language_info": {
   "codemirror_mode": {
    "name": "ipython",
    "version": 3
   },
   "file_extension": ".py",
   "mimetype": "text/x-python",
   "name": "python",
   "nbconvert_exporter": "python",
   "pygments_lexer": "ipython3",
   "version": "3.11.9"
  }
 },
 "nbformat": 4,
 "nbformat_minor": 4
}
