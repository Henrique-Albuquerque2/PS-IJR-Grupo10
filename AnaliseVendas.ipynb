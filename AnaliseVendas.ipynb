{
 "cells": [
  {
   "cell_type": "markdown",
   "metadata": {},
   "source": [
    "# Foco da Analise, primeiras impressões\n"
   ]
  },
  {
   "cell_type": "markdown",
   "metadata": {},
   "source": [
    "Realizar uma clusterização com as seguintes colunas, para compreender quais são os perfis de carros que mais vendidos por cada perfil de cliente: \n",
    "        'Tipo de Cliente', 'Marca do Carro', 'Ano de Fabricação do Carro', 'Quilometragem do Carro no Momento da Venda', 'Tipo de Combustível','Tipo de Transmissão', 'Preço de Venda (R$)','Histórico de Aluguel (se aplicável)', 'Cancelamento da Venda'\n",
    "\n",
    "Realizar com as seguintes colunas, para conseguir uma métrica de receita:\n",
    "        'Data da Venda','Preço de Venda (R$)','Forma de Pagamento','Status do Pagamento', 'Desconto para Ex-cliente de Aluguel (%)', 'Cancelamento da Venda'\n",
    "\n",
    "Realizar com as seguintes colunas, para conseguiur encontrar o perfil dos clientes mais valiosos:\n",
    "        'Tipo de Cliente', 'Histórico de Aluguel (se aplicável)', 'Cancelamento da Venda', 'Motivo do Cancelamento (se aplicável)', 'Coerente'\n",
    "\n",
    "Analise do porque ocorrem cancelamentos das compras:\n",
    "        'Cancelamento da Venda', 'Motivo do Cancelamento (se aplicável)'\n",
    "\n",
    "Apagar coluna coerente, True para todas as linhas"
   ]
  },
  {
   "cell_type": "code",
   "execution_count": 1,
   "metadata": {},
   "outputs": [],
   "source": [
    "# Importação das bibliotecas para analise de dados\n",
    "import pandas as pd\n",
    "import numpy as np\n",
    "import matplotlib.pyplot as plt"
   ]
  },
  {
   "cell_type": "code",
   "execution_count": 2,
   "metadata": {},
   "outputs": [],
   "source": [
    "db_vendas = pd.read_csv('historico_vendas.csv')"
   ]
  },
  {
   "cell_type": "code",
   "execution_count": 3,
   "metadata": {},
   "outputs": [
    {
     "data": {
      "text/plain": [
       "Index(['ID do Cliente', 'Tipo de Cliente', 'Data da Venda',\n",
       "       'ID do Carro Vendido', 'Marca do Carro', 'Ano de Fabricação do Carro',\n",
       "       'Quilometragem do Carro no Momento da Venda', 'Tipo de Combustível',\n",
       "       'Tipo de Transmissão', 'Preço de Venda (R$)', 'Forma de Pagamento',\n",
       "       'Status do Pagamento', 'Histórico de Aluguel (se aplicável)',\n",
       "       'ID do Contrato de Aluguel Anterior (se aplicável)',\n",
       "       'Desconto para Ex-cliente de Aluguel (%)', 'Cancelamento da Venda',\n",
       "       'Motivo do Cancelamento (se aplicável)', 'Coerente'],\n",
       "      dtype='object')"
      ]
     },
     "metadata": {},
     "output_type": "display_data"
    },
    {
     "data": {
      "text/html": [
       "<div>\n",
       "<style scoped>\n",
       "    .dataframe tbody tr th:only-of-type {\n",
       "        vertical-align: middle;\n",
       "    }\n",
       "\n",
       "    .dataframe tbody tr th {\n",
       "        vertical-align: top;\n",
       "    }\n",
       "\n",
       "    .dataframe thead th {\n",
       "        text-align: right;\n",
       "    }\n",
       "</style>\n",
       "<table border=\"1\" class=\"dataframe\">\n",
       "  <thead>\n",
       "    <tr style=\"text-align: right;\">\n",
       "      <th></th>\n",
       "      <th>ID do Cliente</th>\n",
       "      <th>Tipo de Cliente</th>\n",
       "      <th>Data da Venda</th>\n",
       "      <th>ID do Carro Vendido</th>\n",
       "      <th>Marca do Carro</th>\n",
       "      <th>Ano de Fabricação do Carro</th>\n",
       "      <th>Quilometragem do Carro no Momento da Venda</th>\n",
       "      <th>Tipo de Combustível</th>\n",
       "      <th>Tipo de Transmissão</th>\n",
       "      <th>Preço de Venda (R$)</th>\n",
       "      <th>Forma de Pagamento</th>\n",
       "      <th>Status do Pagamento</th>\n",
       "      <th>Histórico de Aluguel (se aplicável)</th>\n",
       "      <th>ID do Contrato de Aluguel Anterior (se aplicável)</th>\n",
       "      <th>Desconto para Ex-cliente de Aluguel (%)</th>\n",
       "      <th>Cancelamento da Venda</th>\n",
       "      <th>Motivo do Cancelamento (se aplicável)</th>\n",
       "      <th>Coerente</th>\n",
       "    </tr>\n",
       "  </thead>\n",
       "  <tbody>\n",
       "    <tr>\n",
       "      <th>0</th>\n",
       "      <td>67593.0</td>\n",
       "      <td>b2c</td>\n",
       "      <td>13/05/2023</td>\n",
       "      <td>516713.0</td>\n",
       "      <td>voLKSWAGEn</td>\n",
       "      <td>2022.0</td>\n",
       "      <td>37656.0</td>\n",
       "      <td>HÍbridO</td>\n",
       "      <td>aUTOmÁTIcA</td>\n",
       "      <td>135375.00</td>\n",
       "      <td>TRanSfeRênCIA BanCáRIa</td>\n",
       "      <td>comPLETO</td>\n",
       "      <td>NÃo</td>\n",
       "      <td>NaN</td>\n",
       "      <td>0.0</td>\n",
       "      <td>NÃo</td>\n",
       "      <td>NaN</td>\n",
       "      <td>True</td>\n",
       "    </tr>\n",
       "    <tr>\n",
       "      <th>1</th>\n",
       "      <td>88684.0</td>\n",
       "      <td>B2b</td>\n",
       "      <td>03 de March de 2022</td>\n",
       "      <td>562471.0</td>\n",
       "      <td>cHEvRoLET</td>\n",
       "      <td>2013.0</td>\n",
       "      <td>214637.0</td>\n",
       "      <td>gaSoLIna</td>\n",
       "      <td>AuTomÁtICa</td>\n",
       "      <td>72948.61</td>\n",
       "      <td>FiNaNCIAmeNTo</td>\n",
       "      <td>EM AndamenTo</td>\n",
       "      <td>nãO</td>\n",
       "      <td>NaN</td>\n",
       "      <td>0.0</td>\n",
       "      <td>Não</td>\n",
       "      <td>NaN</td>\n",
       "      <td>True</td>\n",
       "    </tr>\n",
       "    <tr>\n",
       "      <th>2</th>\n",
       "      <td>60203.0</td>\n",
       "      <td>b2c</td>\n",
       "      <td>13/02/2023</td>\n",
       "      <td>367386.0</td>\n",
       "      <td>voLkSWaGEN</td>\n",
       "      <td>2016.0</td>\n",
       "      <td>134394.0</td>\n",
       "      <td>HÍBRiDO</td>\n",
       "      <td>AutoMáTIcA</td>\n",
       "      <td>89561.76</td>\n",
       "      <td>FInAncIAmEnto</td>\n",
       "      <td>em ANdAMEntO</td>\n",
       "      <td>nÃO</td>\n",
       "      <td>NaN</td>\n",
       "      <td>0.0</td>\n",
       "      <td>siM</td>\n",
       "      <td>FiNaNciAMEnTO NEgadO</td>\n",
       "      <td>True</td>\n",
       "    </tr>\n",
       "    <tr>\n",
       "      <th>3</th>\n",
       "      <td>40452.0</td>\n",
       "      <td>B2C</td>\n",
       "      <td>03 de August de 2023</td>\n",
       "      <td>126368.0</td>\n",
       "      <td>chEVrolet</td>\n",
       "      <td>2013.0</td>\n",
       "      <td>194853.0</td>\n",
       "      <td>híBrIDo</td>\n",
       "      <td>aUTOMÁticA</td>\n",
       "      <td>76788.01</td>\n",
       "      <td>TransFErência bANcÁRIa</td>\n",
       "      <td>cOmpLEto</td>\n",
       "      <td>NÃo</td>\n",
       "      <td>NaN</td>\n",
       "      <td>0.0</td>\n",
       "      <td>Não</td>\n",
       "      <td>NaN</td>\n",
       "      <td>True</td>\n",
       "    </tr>\n",
       "    <tr>\n",
       "      <th>4</th>\n",
       "      <td>83528.0</td>\n",
       "      <td>b2c</td>\n",
       "      <td>21/04/2022</td>\n",
       "      <td>988253.0</td>\n",
       "      <td>TOYoTA</td>\n",
       "      <td>2018.0</td>\n",
       "      <td>116024.0</td>\n",
       "      <td>eLÉtRiCo</td>\n",
       "      <td>AUtoMáTica</td>\n",
       "      <td>99237.41</td>\n",
       "      <td>finANcIameNto</td>\n",
       "      <td>Em AndAMeNtO</td>\n",
       "      <td>NÃO</td>\n",
       "      <td>NaN</td>\n",
       "      <td>0.0</td>\n",
       "      <td>NÃO</td>\n",
       "      <td>NaN</td>\n",
       "      <td>True</td>\n",
       "    </tr>\n",
       "  </tbody>\n",
       "</table>\n",
       "</div>"
      ],
      "text/plain": [
       "   ID do Cliente Tipo de Cliente         Data da Venda  ID do Carro Vendido  \\\n",
       "0        67593.0             b2c            13/05/2023             516713.0   \n",
       "1        88684.0             B2b   03 de March de 2022             562471.0   \n",
       "2        60203.0             b2c            13/02/2023             367386.0   \n",
       "3        40452.0             B2C  03 de August de 2023             126368.0   \n",
       "4        83528.0             b2c            21/04/2022             988253.0   \n",
       "\n",
       "  Marca do Carro  Ano de Fabricação do Carro  \\\n",
       "0     voLKSWAGEn                      2022.0   \n",
       "1      cHEvRoLET                      2013.0   \n",
       "2     voLkSWaGEN                      2016.0   \n",
       "3      chEVrolet                      2013.0   \n",
       "4         TOYoTA                      2018.0   \n",
       "\n",
       "   Quilometragem do Carro no Momento da Venda Tipo de Combustível  \\\n",
       "0                                     37656.0             HÍbridO   \n",
       "1                                    214637.0            gaSoLIna   \n",
       "2                                    134394.0             HÍBRiDO   \n",
       "3                                    194853.0             híBrIDo   \n",
       "4                                    116024.0            eLÉtRiCo   \n",
       "\n",
       "  Tipo de Transmissão  Preço de Venda (R$)      Forma de Pagamento  \\\n",
       "0          aUTOmÁTIcA            135375.00  TRanSfeRênCIA BanCáRIa   \n",
       "1          AuTomÁtICa             72948.61           FiNaNCIAmeNTo   \n",
       "2          AutoMáTIcA             89561.76           FInAncIAmEnto   \n",
       "3          aUTOMÁticA             76788.01  TransFErência bANcÁRIa   \n",
       "4          AUtoMáTica             99237.41           finANcIameNto   \n",
       "\n",
       "  Status do Pagamento Histórico de Aluguel (se aplicável)  \\\n",
       "0            comPLETO                                 NÃo   \n",
       "1        EM AndamenTo                                 nãO   \n",
       "2        em ANdAMEntO                                 nÃO   \n",
       "3            cOmpLEto                                 NÃo   \n",
       "4        Em AndAMeNtO                                 NÃO   \n",
       "\n",
       "   ID do Contrato de Aluguel Anterior (se aplicável)  \\\n",
       "0                                                NaN   \n",
       "1                                                NaN   \n",
       "2                                                NaN   \n",
       "3                                                NaN   \n",
       "4                                                NaN   \n",
       "\n",
       "   Desconto para Ex-cliente de Aluguel (%) Cancelamento da Venda  \\\n",
       "0                                      0.0                   NÃo   \n",
       "1                                      0.0                   Não   \n",
       "2                                      0.0                   siM   \n",
       "3                                      0.0                   Não   \n",
       "4                                      0.0                   NÃO   \n",
       "\n",
       "  Motivo do Cancelamento (se aplicável) Coerente  \n",
       "0                                   NaN     True  \n",
       "1                                   NaN     True  \n",
       "2                  FiNaNciAMEnTO NEgadO     True  \n",
       "3                                   NaN     True  \n",
       "4                                   NaN     True  "
      ]
     },
     "metadata": {},
     "output_type": "display_data"
    }
   ],
   "source": [
    "display(db_vendas.columns)\n",
    "display(db_vendas.head())"
   ]
  },
  {
   "cell_type": "code",
   "execution_count": 20,
   "metadata": {},
   "outputs": [
    {
     "data": {
      "text/plain": [
       "(23027, 18)"
      ]
     },
     "metadata": {},
     "output_type": "display_data"
    },
    {
     "data": {
      "text/plain": [
       "True    23007\n",
       "Name: Coerente, dtype: int64"
      ]
     },
     "execution_count": 20,
     "metadata": {},
     "output_type": "execute_result"
    }
   ],
   "source": [
    "\n",
    "db_vendas['Coerente'].value_counts()"
   ]
  },
  {
   "cell_type": "code",
   "execution_count": 12,
   "metadata": {},
   "outputs": [
    {
     "data": {
      "text/plain": [
       "43670.0    4\n",
       "26307.0    4\n",
       "51782.0    3\n",
       "61672.0    3\n",
       "54858.0    3\n",
       "          ..\n",
       "81610.0    1\n",
       "80229.0    1\n",
       "54076.0    1\n",
       "80481.0    1\n",
       "3511.0     1\n",
       "Name: ID do Contrato de Aluguel Anterior (se aplicável), Length: 5367, dtype: int64"
      ]
     },
     "execution_count": 12,
     "metadata": {},
     "output_type": "execute_result"
    }
   ],
   "source": [
    "db_vendas['ID do Contrato de Aluguel Anterior (se aplicável)'].value_counts()"
   ]
  }
 ],
 "metadata": {
  "kernelspec": {
   "display_name": "base",
   "language": "python",
   "name": "python3"
  },
  "language_info": {
   "codemirror_mode": {
    "name": "ipython",
    "version": 3
   },
   "file_extension": ".py",
   "mimetype": "text/x-python",
   "name": "python",
   "nbconvert_exporter": "python",
   "pygments_lexer": "ipython3",
   "version": "3.9.13"
  }
 },
 "nbformat": 4,
 "nbformat_minor": 2
}
